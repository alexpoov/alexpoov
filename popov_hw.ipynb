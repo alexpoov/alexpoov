{
 "cells": [
  {
   "cell_type": "markdown",
   "metadata": {},
   "source": [
    "# Recommender Systems Project\n",
    "Aleksandr Popov, IS&HCI "
   ]
  },
  {
   "cell_type": "markdown",
   "metadata": {},
   "source": [
    "### Требования\n",
    "\n",
    "Домашняя работа: \n",
    "1. Рассматриваем малый датасет от MovieLense (лежит на ЯД)\n",
    "2. Выберите случайным образом 40% пользователей и скройте у них 40% оценок.\n",
    "3. Скрытые данные отложите, мы будем использовать их как итоговый тест (Final_test_set). \n",
    "4. Остальные оценки разделите на 85% (Train_set) и 15% (Validation_set)\n",
    "5. Возьмиете две реализации, которые мы рассматривали на занятиях для SVD.\n",
    "6. Сравните реализации и при необходимости улучшите их, по скорости сходимости и RMSE на оценках Train_set и Validation_set.\n",
    "7. Попробуйте подобрать лучшие параметры для числа скрытых факторов и скорости обучения (learning ratio). Для градиентного спуска попробуйте несколько стратегий уменьшения шага обучения (зависящего и независящего от величины градиента)\n",
    "8. Вы берите лучшую модель для SVD.\n",
    "9. Реализуйте любую модель рекомендации на основе похожести фильмов, используя Train_set.\n",
    "10. Сравните модель SVD и на основе похожести фильмов по NDCG на Validation_set. \n",
    "11. Сравните две модели на Final_test_set. \n",
    "\n",
    "\n",
    "Итоговый проект:\n",
    "1. Предложите какой-либо интересный вам датасет для рекомендации оличный от MovieLense.\n",
    "2. Если по нему есть статьи, расскажите какие интересные идеи предлагали люди.\n",
    "3. Постройте рекомендательную модель (можно адаптировать результаты домашней работы).\n",
    "4. Оцените качество модели.\n",
    "5. Подготовьте презентацию."
   ]
  },
  {
   "cell_type": "markdown",
   "metadata": {},
   "source": [
    "### Data"
   ]
  },
  {
   "cell_type": "markdown",
   "metadata": {},
   "source": [
    "#### Summary\n",
    "\n",
    "This dataset (ml-latest-small) describes 5-star rating and free-text tagging activity from [MovieLens](http://movielens.org), a movie recommendation service. It contains 100836 ratings and 3683 tag applications across 9742 movies. These data were created by 610 users between March 29, 1996 and September 24, 2018. This dataset was generated on September 26, 2018.\n",
    "\n",
    "Users were selected at random for inclusion. All selected users had rated at least 20 movies. No demographic information is included. Each user is represented by an id, and no other information is provided.\n",
    "\n",
    "The data are contained in the files `links.csv`, `movies.csv`, `ratings.csv` and `tags.csv`. More details about the contents and use of all these files follows.\n",
    "\n",
    "This is a *development* dataset. As such, it may change over time and is not an appropriate dataset for shared research results. See available *benchmark* datasets if that is your intent.\n",
    "\n",
    "This and other GroupLens data sets are publicly available for download at <http://grouplens.org/datasets/>.\n",
    "\n",
    "\n",
    "#### Usage License\n",
    "\n",
    "Neither the University of Minnesota nor any of the researchers involved can guarantee the correctness of the data, its suitability for any particular purpose, or the validity of results based on the use of the data set. The data set may be used for any research purposes under the following conditions:\n",
    "\n",
    "* The user may not state or imply any endorsement from the University of Minnesota or the GroupLens Research Group.\n",
    "* The user must acknowledge the use of the data set in publications resulting from the use of the data set (see below for citation information).\n",
    "* The user may redistribute the data set, including transformations, so long as it is distributed under these same license conditions.\n",
    "* The user may not use this information for any commercial or revenue-bearing purposes without first obtaining permission from a faculty member of the GroupLens Research Project at the University of Minnesota.\n",
    "* The executable software scripts are provided \"as is\" without warranty of any kind, either expressed or implied, including, but not limited to, the implied warranties of merchantability and fitness for a particular purpose. The entire risk as to the quality and performance of them is with you. Should the program prove defective, you assume the cost of all necessary servicing, repair or correction.\n",
    "\n",
    "In no event shall the University of Minnesota, its affiliates or employees be liable to you for any damages arising out of the use or inability to use these programs (including but not limited to loss of data or data being rendered inaccurate).\n",
    "\n",
    "If you have any further questions or comments, please email <grouplens-info@umn.edu>\n",
    "\n",
    "\n",
    "#### Citation\n",
    "\n",
    "To acknowledge use of the dataset in publications, please cite the following paper:\n",
    "\n",
    "> F. Maxwell Harper and Joseph A. Konstan. 2015. The MovieLens Datasets: History and Context. ACM Transactions on Interactive Intelligent Systems (TiiS) 5, 4: 19:1–19:19. <https://doi.org/10.1145/2827872>\n",
    "\n",
    "\n",
    "#### Further Information About GroupLens\n",
    "\n",
    "GroupLens is a research group in the Department of Computer Science and Engineering at the University of Minnesota. Since its inception in 1992, GroupLens's research projects have explored a variety of fields including:\n",
    "\n",
    "* recommender systems\n",
    "* online communities\n",
    "* mobile and ubiquitious technologies\n",
    "* digital libraries\n",
    "* local geographic information systems\n",
    "\n",
    "GroupLens Research operates a movie recommender based on collaborative filtering, MovieLens, which is the source of these data. We encourage you to visit <http://movielens.org> to try it out! If you have exciting ideas for experimental work to conduct on MovieLens, send us an email at <grouplens-info@cs.umn.edu> - we are always interested in working with external collaborators.\n",
    "\n",
    "\n",
    "#### Content and Use of Files\n",
    "\n",
    "**Formatting and Encoding**\n",
    "\n",
    "The dataset files are written as [comma-separated values](http://en.wikipedia.org/wiki/Comma-separated_values) files with a single header row. Columns that contain commas (`,`) are escaped using double-quotes (`\"`). These files are encoded as UTF-8. If accented characters in movie titles or tag values (e.g. Misérables, Les (1995)) display incorrectly, make sure that any program reading the data, such as a text editor, terminal, or script, is configured for UTF-8.\n",
    "\n",
    "\n",
    "**User Ids**\n",
    "\n",
    "MovieLens users were selected at random for inclusion. Their ids have been anonymized. User ids are consistent between `ratings.csv` and `tags.csv` (i.e., the same id refers to the same user across the two files).\n",
    "\n",
    "\n",
    "**Movie Ids**\n",
    "\n",
    "Only movies with at least one rating or tag are included in the dataset. These movie ids are consistent with those used on the MovieLens web site (e.g., id `1` corresponds to the URL <https://movielens.org/movies/1>). Movie ids are consistent between `ratings.csv`, `tags.csv`, `movies.csv`, and `links.csv` (i.e., the same id refers to the same movie across these four data files).\n",
    "\n",
    "\n",
    "**Ratings Data File Structure `(ratings.csv)`**\n",
    "\n",
    "All ratings are contained in the file `ratings.csv`. Each line of this file after the header row represents one rating of one movie by one user, and has the following format:\n",
    "\n",
    "    userId,movieId,rating,timestamp\n",
    "\n",
    "The lines within this file are ordered first by userId, then, within user, by movieId.\n",
    "\n",
    "Ratings are made on a 5-star scale, with half-star increments (0.5 stars - 5.0 stars).\n",
    "\n",
    "Timestamps represent seconds since midnight Coordinated Universal Time (UTC) of January 1, 1970.\n",
    "\n",
    "\n",
    "**Tags Data File Structure `(tags.csv)`**\n",
    "\n",
    "All tags are contained in the file `tags.csv`. Each line of this file after the header row represents one tag applied to one movie by one user, and has the following format:\n",
    "\n",
    "    userId,movieId,tag,timestamp\n",
    "\n",
    "The lines within this file are ordered first by userId, then, within user, by movieId.\n",
    "\n",
    "Tags are user-generated metadata about movies. Each tag is typically a single word or short phrase. The meaning, value, and purpose of a particular tag is determined by each user.\n",
    "\n",
    "Timestamps represent seconds since midnight Coordinated Universal Time (UTC) of January 1, 1970.\n",
    "\n",
    "\n",
    "**Movies Data File Structure `(movies.csv)`**\n",
    "\n",
    "\n",
    "Movie information is contained in the file `movies.csv`. Each line of this file after the header row represents one movie, and has the following format:\n",
    "\n",
    "    movieId,title,genres\n",
    "\n",
    "Movie titles are entered manually or imported from <https://www.themoviedb.org/>, and include the year of release in parentheses. Errors and inconsistencies may exist in these titles.\n",
    "\n",
    "Genres are a pipe-separated list, and are selected from the following:\n",
    "\n",
    "    * Action\n",
    "    * Adventure\n",
    "    * Animation\n",
    "    * Children's\n",
    "    * Comedy\n",
    "    * Crime\n",
    "    * Documentary\n",
    "    * Drama\n",
    "    * Fantasy\n",
    "    * Film-Noir\n",
    "    * Horror\n",
    "    * Musical\n",
    "    * Mystery\n",
    "    * Romance\n",
    "    * Sci-Fi\n",
    "    * Thriller\n",
    "    * War\n",
    "    * Western\n",
    "    * (no genres listed)\n",
    "\n",
    "\n",
    "**Links Data File Structure `(links.csv)`**\n",
    "\n",
    "Identifiers that can be used to link to other sources of movie data are contained in the file `links.csv`. Each line of this file after the header row represents one movie, and has the following format:\n",
    "\n",
    "    movieId,imdbId,tmdbId\n",
    "\n",
    "movieId is an identifier for movies used by <https://movielens.org>. E.g., the movie Toy Story has the link <https://movielens.org/movies/1>.\n",
    "\n",
    "imdbId is an identifier for movies used by <http://www.imdb.com>. E.g., the movie Toy Story has the link <http://www.imdb.com/title/tt0114709/>.\n",
    "\n",
    "tmdbId is an identifier for movies used by <https://www.themoviedb.org>. E.g., the movie Toy Story has the link <https://www.themoviedb.org/movie/862>.\n",
    "\n",
    "Use of the resources listed above is subject to the terms of each provider.\n",
    "\n",
    "\n",
    "**Cross-Validation**\n",
    "\n",
    "Prior versions of the MovieLens dataset included either pre-computed cross-folds or scripts to perform this computation. We no longer bundle either of these features with the dataset, since most modern toolkits provide this as a built-in feature. If you wish to learn about standard approaches to cross-fold computation in the context of recommender systems evaluation, see [LensKit](http://lenskit.org) for tools, documentation, and open-source code examples.\n"
   ]
  },
  {
   "attachments": {},
   "cell_type": "markdown",
   "metadata": {},
   "source": [
    "## Домашняя работа"
   ]
  },
  {
   "cell_type": "markdown",
   "metadata": {},
   "source": [
    "*Дисклеймер:* после путаницы в словарях, я решил что будет проще переписать всю работу на датафреймах. Это повлияет на семплинг и первую реализацию SVD."
   ]
  },
  {
   "attachments": {},
   "cell_type": "markdown",
   "metadata": {},
   "source": [
    "### Предобработка данных"
   ]
  },
  {
   "cell_type": "markdown",
   "metadata": {},
   "source": [
    "#### 1. Загрузка данных\n",
    "\n",
    "Для простоты обращения с данными сразу подцеплю названия фильмов к оценкам, но пока что не буду убирать `movieId` - он понадобится для сортировки (у меня ещё мало опыта в питоне, поэтому я всё время проверяю возвратный объект с помощью `.head()`).\n",
    "\n",
    "Итоговый объект: датафрейм `ratings`"
   ]
  },
  {
   "cell_type": "code",
   "execution_count": 219,
   "metadata": {},
   "outputs": [
    {
     "data": {
      "text/html": [
       "<div>\n",
       "<style scoped>\n",
       "    .dataframe tbody tr th:only-of-type {\n",
       "        vertical-align: middle;\n",
       "    }\n",
       "\n",
       "    .dataframe tbody tr th {\n",
       "        vertical-align: top;\n",
       "    }\n",
       "\n",
       "    .dataframe thead th {\n",
       "        text-align: right;\n",
       "    }\n",
       "</style>\n",
       "<table border=\"1\" class=\"dataframe\">\n",
       "  <thead>\n",
       "    <tr style=\"text-align: right;\">\n",
       "      <th></th>\n",
       "      <th>userId</th>\n",
       "      <th>movieId</th>\n",
       "      <th>movie</th>\n",
       "      <th>rating</th>\n",
       "    </tr>\n",
       "  </thead>\n",
       "  <tbody>\n",
       "    <tr>\n",
       "      <th>0</th>\n",
       "      <td>1</td>\n",
       "      <td>1</td>\n",
       "      <td>Toy Story (1995)</td>\n",
       "      <td>4.0</td>\n",
       "    </tr>\n",
       "    <tr>\n",
       "      <th>1</th>\n",
       "      <td>1</td>\n",
       "      <td>3</td>\n",
       "      <td>Grumpier Old Men (1995)</td>\n",
       "      <td>4.0</td>\n",
       "    </tr>\n",
       "    <tr>\n",
       "      <th>2</th>\n",
       "      <td>1</td>\n",
       "      <td>6</td>\n",
       "      <td>Heat (1995)</td>\n",
       "      <td>4.0</td>\n",
       "    </tr>\n",
       "    <tr>\n",
       "      <th>3</th>\n",
       "      <td>1</td>\n",
       "      <td>47</td>\n",
       "      <td>Seven (a.k.a. Se7en) (1995)</td>\n",
       "      <td>5.0</td>\n",
       "    </tr>\n",
       "    <tr>\n",
       "      <th>4</th>\n",
       "      <td>1</td>\n",
       "      <td>50</td>\n",
       "      <td>Usual Suspects, The (1995)</td>\n",
       "      <td>5.0</td>\n",
       "    </tr>\n",
       "  </tbody>\n",
       "</table>\n",
       "</div>"
      ],
      "text/plain": [
       "   userId  movieId                        movie  rating\n",
       "0       1        1             Toy Story (1995)     4.0\n",
       "1       1        3      Grumpier Old Men (1995)     4.0\n",
       "2       1        6                  Heat (1995)     4.0\n",
       "3       1       47  Seven (a.k.a. Se7en) (1995)     5.0\n",
       "4       1       50   Usual Suspects, The (1995)     5.0"
      ]
     },
     "execution_count": 219,
     "metadata": {},
     "output_type": "execute_result"
    }
   ],
   "source": [
    "import pandas as pd\n",
    "import numpy as np\n",
    "import random\n",
    "movies = pd.read_csv('./RecSys2022/ml-small/movies.csv')\n",
    "ratings = pd.read_csv('./RecSys2022/ml-small/ratings.csv')\n",
    "ratings['movie'] = ratings['movieId'].map(movies.set_index('movieId')['title'])\n",
    "ratings = ratings[['userId', 'movieId', 'movie', 'rating']]\n",
    "ratings.head()"
   ]
  },
  {
   "cell_type": "markdown",
   "metadata": {},
   "source": [
    "#### 2. Случайным образом скрываем 16% оценок (40% от 40%)\n",
    "\n",
    "Сделаем это пошагово:  \n",
    "* отберём 40% из количества уникальных пользователей;  \n",
    "* отберём у них 40% оценок и сохраним их в `final_test`\n",
    "* по индексам тестового сета дропнем строки из общего, сделав `train`"
   ]
  },
  {
   "cell_type": "code",
   "execution_count": 220,
   "metadata": {},
   "outputs": [],
   "source": [
    "users = ratings['userId'].unique()\n",
    "np.random.seed(42)\n",
    "test_users = np.sort(np.random.choice(users, int(0.4*len(users)), replace=False))\n",
    "# создаём лист test_user в 40% от всех пользователей"
   ]
  },
  {
   "cell_type": "code",
   "execution_count": 221,
   "metadata": {},
   "outputs": [
    {
     "data": {
      "text/html": [
       "<div>\n",
       "<style scoped>\n",
       "    .dataframe tbody tr th:only-of-type {\n",
       "        vertical-align: middle;\n",
       "    }\n",
       "\n",
       "    .dataframe tbody tr th {\n",
       "        vertical-align: top;\n",
       "    }\n",
       "\n",
       "    .dataframe thead th {\n",
       "        text-align: right;\n",
       "    }\n",
       "</style>\n",
       "<table border=\"1\" class=\"dataframe\">\n",
       "  <thead>\n",
       "    <tr style=\"text-align: right;\">\n",
       "      <th></th>\n",
       "      <th>userId</th>\n",
       "      <th>movieId</th>\n",
       "      <th>movie</th>\n",
       "      <th>rating</th>\n",
       "    </tr>\n",
       "  </thead>\n",
       "  <tbody>\n",
       "    <tr>\n",
       "      <th>0</th>\n",
       "      <td>1</td>\n",
       "      <td>1</td>\n",
       "      <td>Toy Story (1995)</td>\n",
       "      <td>4.0</td>\n",
       "    </tr>\n",
       "    <tr>\n",
       "      <th>1</th>\n",
       "      <td>1</td>\n",
       "      <td>3</td>\n",
       "      <td>Grumpier Old Men (1995)</td>\n",
       "      <td>4.0</td>\n",
       "    </tr>\n",
       "    <tr>\n",
       "      <th>4</th>\n",
       "      <td>1</td>\n",
       "      <td>50</td>\n",
       "      <td>Usual Suspects, The (1995)</td>\n",
       "      <td>5.0</td>\n",
       "    </tr>\n",
       "    <tr>\n",
       "      <th>6</th>\n",
       "      <td>1</td>\n",
       "      <td>101</td>\n",
       "      <td>Bottle Rocket (1996)</td>\n",
       "      <td>5.0</td>\n",
       "    </tr>\n",
       "    <tr>\n",
       "      <th>7</th>\n",
       "      <td>1</td>\n",
       "      <td>110</td>\n",
       "      <td>Braveheart (1995)</td>\n",
       "      <td>4.0</td>\n",
       "    </tr>\n",
       "  </tbody>\n",
       "</table>\n",
       "</div>"
      ],
      "text/plain": [
       "   userId  movieId                       movie  rating\n",
       "0       1        1            Toy Story (1995)     4.0\n",
       "1       1        3     Grumpier Old Men (1995)     4.0\n",
       "4       1       50  Usual Suspects, The (1995)     5.0\n",
       "6       1      101        Bottle Rocket (1996)     5.0\n",
       "7       1      110           Braveheart (1995)     4.0"
      ]
     },
     "execution_count": 221,
     "metadata": {},
     "output_type": "execute_result"
    }
   ],
   "source": [
    "# выделяем рейтинги этих пользователей и создаём семпл в 40%\n",
    "pseudo_test = ratings[ratings['userId'].isin(test_users)]\n",
    "final_test = pseudo_test.sample(int(0.4*len(pseudo_test)), random_state = 42)\n",
    "final_test.sort_values(by = [\"userId\", \"movieId\"], inplace=True)\n",
    "final_test.head()"
   ]
  },
  {
   "cell_type": "code",
   "execution_count": 222,
   "metadata": {},
   "outputs": [],
   "source": [
    "train = ratings.drop(final_test.index, axis=0)"
   ]
  },
  {
   "cell_type": "markdown",
   "metadata": {},
   "source": [
    "#### 3. `Final_test_set` со скрытыми оценками\n",
    "\n",
    "Мы его уже создали на предыдущем шаге, копирую для удобства проверки."
   ]
  },
  {
   "cell_type": "code",
   "execution_count": 223,
   "metadata": {},
   "outputs": [],
   "source": [
    "from copy import deepcopy\n",
    "Final_test_set = deepcopy(final_test)"
   ]
  },
  {
   "attachments": {},
   "cell_type": "markdown",
   "metadata": {},
   "source": [
    "#### 4. Создаём `Train_set` и `Validation_set`\n",
    "\n",
    "Для этого разделим наш `train` в пропорции *85:15* и сохраним итоги в `Train_set` и `Validation_set`"
   ]
  },
  {
   "cell_type": "code",
   "execution_count": 224,
   "metadata": {},
   "outputs": [],
   "source": [
    "valid = train.sample(int(0.15*len(train)), random_state = 42)\n",
    "valid.sort_values(by = [\"userId\", \"movieId\"], inplace=True)"
   ]
  },
  {
   "cell_type": "code",
   "execution_count": 225,
   "metadata": {},
   "outputs": [
    {
     "data": {
      "text/html": [
       "<div>\n",
       "<style scoped>\n",
       "    .dataframe tbody tr th:only-of-type {\n",
       "        vertical-align: middle;\n",
       "    }\n",
       "\n",
       "    .dataframe tbody tr th {\n",
       "        vertical-align: top;\n",
       "    }\n",
       "\n",
       "    .dataframe thead th {\n",
       "        text-align: right;\n",
       "    }\n",
       "</style>\n",
       "<table border=\"1\" class=\"dataframe\">\n",
       "  <thead>\n",
       "    <tr style=\"text-align: right;\">\n",
       "      <th></th>\n",
       "      <th>userId</th>\n",
       "      <th>movieId</th>\n",
       "      <th>movie</th>\n",
       "      <th>rating</th>\n",
       "    </tr>\n",
       "  </thead>\n",
       "  <tbody>\n",
       "    <tr>\n",
       "      <th>2</th>\n",
       "      <td>1</td>\n",
       "      <td>6</td>\n",
       "      <td>Heat (1995)</td>\n",
       "      <td>4.0</td>\n",
       "    </tr>\n",
       "    <tr>\n",
       "      <th>3</th>\n",
       "      <td>1</td>\n",
       "      <td>47</td>\n",
       "      <td>Seven (a.k.a. Se7en) (1995)</td>\n",
       "      <td>5.0</td>\n",
       "    </tr>\n",
       "    <tr>\n",
       "      <th>5</th>\n",
       "      <td>1</td>\n",
       "      <td>70</td>\n",
       "      <td>From Dusk Till Dawn (1996)</td>\n",
       "      <td>3.0</td>\n",
       "    </tr>\n",
       "    <tr>\n",
       "      <th>8</th>\n",
       "      <td>1</td>\n",
       "      <td>151</td>\n",
       "      <td>Rob Roy (1995)</td>\n",
       "      <td>5.0</td>\n",
       "    </tr>\n",
       "    <tr>\n",
       "      <th>9</th>\n",
       "      <td>1</td>\n",
       "      <td>157</td>\n",
       "      <td>Canadian Bacon (1995)</td>\n",
       "      <td>5.0</td>\n",
       "    </tr>\n",
       "  </tbody>\n",
       "</table>\n",
       "</div>"
      ],
      "text/plain": [
       "   userId  movieId                        movie  rating\n",
       "2       1        6                  Heat (1995)     4.0\n",
       "3       1       47  Seven (a.k.a. Se7en) (1995)     5.0\n",
       "5       1       70   From Dusk Till Dawn (1996)     3.0\n",
       "8       1      151               Rob Roy (1995)     5.0\n",
       "9       1      157        Canadian Bacon (1995)     5.0"
      ]
     },
     "execution_count": 225,
     "metadata": {},
     "output_type": "execute_result"
    }
   ],
   "source": [
    "train = train.drop(valid.index, axis=0)\n",
    "Train_set = deepcopy(train)\n",
    "Train_set.head()"
   ]
  },
  {
   "attachments": {},
   "cell_type": "markdown",
   "metadata": {},
   "source": [
    "Необходимо учесть, что в `Validation_set` и `Final_test_set` мы можем использовать только те фильмы, что были в трейне, поэтому:"
   ]
  },
  {
   "cell_type": "code",
   "execution_count": 226,
   "metadata": {},
   "outputs": [
    {
     "data": {
      "text/html": [
       "<div>\n",
       "<style scoped>\n",
       "    .dataframe tbody tr th:only-of-type {\n",
       "        vertical-align: middle;\n",
       "    }\n",
       "\n",
       "    .dataframe tbody tr th {\n",
       "        vertical-align: top;\n",
       "    }\n",
       "\n",
       "    .dataframe thead th {\n",
       "        text-align: right;\n",
       "    }\n",
       "</style>\n",
       "<table border=\"1\" class=\"dataframe\">\n",
       "  <thead>\n",
       "    <tr style=\"text-align: right;\">\n",
       "      <th></th>\n",
       "      <th>userId</th>\n",
       "      <th>movieId</th>\n",
       "      <th>movie</th>\n",
       "      <th>rating</th>\n",
       "    </tr>\n",
       "  </thead>\n",
       "  <tbody>\n",
       "    <tr>\n",
       "      <th>35</th>\n",
       "      <td>1</td>\n",
       "      <td>596</td>\n",
       "      <td>Pinocchio (1940)</td>\n",
       "      <td>5.0</td>\n",
       "    </tr>\n",
       "    <tr>\n",
       "      <th>56</th>\n",
       "      <td>1</td>\n",
       "      <td>1032</td>\n",
       "      <td>Alice in Wonderland (1951)</td>\n",
       "      <td>5.0</td>\n",
       "    </tr>\n",
       "    <tr>\n",
       "      <th>145</th>\n",
       "      <td>1</td>\n",
       "      <td>2273</td>\n",
       "      <td>Rush Hour (1998)</td>\n",
       "      <td>4.0</td>\n",
       "    </tr>\n",
       "    <tr>\n",
       "      <th>168</th>\n",
       "      <td>1</td>\n",
       "      <td>2596</td>\n",
       "      <td>SLC Punk! (1998)</td>\n",
       "      <td>5.0</td>\n",
       "    </tr>\n",
       "    <tr>\n",
       "      <th>174</th>\n",
       "      <td>1</td>\n",
       "      <td>2644</td>\n",
       "      <td>Dracula (1931)</td>\n",
       "      <td>4.0</td>\n",
       "    </tr>\n",
       "  </tbody>\n",
       "</table>\n",
       "</div>"
      ],
      "text/plain": [
       "     userId  movieId                       movie  rating\n",
       "35        1      596            Pinocchio (1940)     5.0\n",
       "56        1     1032  Alice in Wonderland (1951)     5.0\n",
       "145       1     2273            Rush Hour (1998)     4.0\n",
       "168       1     2596            SLC Punk! (1998)     5.0\n",
       "174       1     2644              Dracula (1931)     4.0"
      ]
     },
     "execution_count": 226,
     "metadata": {},
     "output_type": "execute_result"
    }
   ],
   "source": [
    "valid = valid[valid['movieId'].isin(train['movieId'])]\n",
    "Validation_set = deepcopy(valid)\n",
    "Validation_set.head()"
   ]
  },
  {
   "attachments": {},
   "cell_type": "markdown",
   "metadata": {},
   "source": [
    "Это же повторим для теста:"
   ]
  },
  {
   "cell_type": "code",
   "execution_count": 227,
   "metadata": {},
   "outputs": [
    {
     "data": {
      "text/html": [
       "<div>\n",
       "<style scoped>\n",
       "    .dataframe tbody tr th:only-of-type {\n",
       "        vertical-align: middle;\n",
       "    }\n",
       "\n",
       "    .dataframe tbody tr th {\n",
       "        vertical-align: top;\n",
       "    }\n",
       "\n",
       "    .dataframe thead th {\n",
       "        text-align: right;\n",
       "    }\n",
       "</style>\n",
       "<table border=\"1\" class=\"dataframe\">\n",
       "  <thead>\n",
       "    <tr style=\"text-align: right;\">\n",
       "      <th></th>\n",
       "      <th>userId</th>\n",
       "      <th>movieId</th>\n",
       "      <th>movie</th>\n",
       "      <th>rating</th>\n",
       "    </tr>\n",
       "  </thead>\n",
       "  <tbody>\n",
       "    <tr>\n",
       "      <th>0</th>\n",
       "      <td>1</td>\n",
       "      <td>1</td>\n",
       "      <td>Toy Story (1995)</td>\n",
       "      <td>4.0</td>\n",
       "    </tr>\n",
       "    <tr>\n",
       "      <th>1</th>\n",
       "      <td>1</td>\n",
       "      <td>3</td>\n",
       "      <td>Grumpier Old Men (1995)</td>\n",
       "      <td>4.0</td>\n",
       "    </tr>\n",
       "    <tr>\n",
       "      <th>4</th>\n",
       "      <td>1</td>\n",
       "      <td>50</td>\n",
       "      <td>Usual Suspects, The (1995)</td>\n",
       "      <td>5.0</td>\n",
       "    </tr>\n",
       "    <tr>\n",
       "      <th>6</th>\n",
       "      <td>1</td>\n",
       "      <td>101</td>\n",
       "      <td>Bottle Rocket (1996)</td>\n",
       "      <td>5.0</td>\n",
       "    </tr>\n",
       "    <tr>\n",
       "      <th>7</th>\n",
       "      <td>1</td>\n",
       "      <td>110</td>\n",
       "      <td>Braveheart (1995)</td>\n",
       "      <td>4.0</td>\n",
       "    </tr>\n",
       "  </tbody>\n",
       "</table>\n",
       "</div>"
      ],
      "text/plain": [
       "   userId  movieId                       movie  rating\n",
       "0       1        1            Toy Story (1995)     4.0\n",
       "1       1        3     Grumpier Old Men (1995)     4.0\n",
       "4       1       50  Usual Suspects, The (1995)     5.0\n",
       "6       1      101        Bottle Rocket (1996)     5.0\n",
       "7       1      110           Braveheart (1995)     4.0"
      ]
     },
     "execution_count": 227,
     "metadata": {},
     "output_type": "execute_result"
    }
   ],
   "source": [
    "final_test = final_test[final_test['movieId'].isin(train['movieId'])]\n",
    "Final_test_set = deepcopy(final_test)\n",
    "Final_test_set.head()"
   ]
  },
  {
   "cell_type": "markdown",
   "metadata": {},
   "source": [
    "Проверка:"
   ]
  },
  {
   "cell_type": "code",
   "execution_count": 229,
   "metadata": {},
   "outputs": [
    {
     "name": "stdout",
     "output_type": "stream",
     "text": [
      "Должно было получится 16.0% наблюдений в тесте, 12.6% в валидационной и 71.4% в трейне.\n",
      "Суммарно это 100.0%\n",
      "\n",
      "Train: 0.697191479233607,\n",
      "Validation: 0.11747788488238328,\n",
      "Test: 0.1694732040144393.\n",
      "Суммарно: 98.41%\n",
      "\n",
      "Yay! ᵔ ᵕ ᵔ\n"
     ]
    }
   ],
   "source": [
    "print(f\"Должно было получится {round(0.4*0.4*100, 1)}% наблюдений в тесте, {round((1-0.4*0.4)*0.15*100, 1)}% в валидационной и {round((1-0.4*0.4)*0.85*100, 1)}% в трейне.\")\n",
    "aabb = round(0.4*0.4*100, 1) + round((1-0.4*0.4)*0.15*100, 1) +  round((1-0.4*0.4)*0.85*100, 1)\n",
    "print(f\"Суммарно это {aabb}%\\n\")\n",
    "\n",
    "print(f\"Train: {len(train)/len(ratings)},\\nValidation: {len(valid)/len(ratings)},\\nTest: {len(final_test)/len(ratings)}.\")\n",
    "bbaa = round(100*(len(train)/len(ratings)+len(valid)/len(ratings)+len(final_test)/len(ratings)),2)\n",
    "print(f\"Суммарно: {bbaa}%\\n\")\n",
    "\n",
    "print(\"Yay! ᵔ ᵕ ᵔ\")\n"
   ]
  },
  {
   "attachments": {},
   "cell_type": "markdown",
   "metadata": {},
   "source": [
    "Выборки могут не сходиться в ожидаемых пропорциях, потому что 40% оценок от 40% пользователей не обязательно дадут 16% оценок (так как пользователь может оценить как 10, так и 1010 фильмов). Кроме того, мы потеряли около 1.5% оценок из-за того, что предсказывать мы можем только фильмы, вошедшие в `Train_set`."
   ]
  },
  {
   "attachments": {},
   "cell_type": "markdown",
   "metadata": {},
   "source": [
    "### SVD"
   ]
  },
  {
   "attachments": {},
   "cell_type": "markdown",
   "metadata": {},
   "source": [
    "#### 5. Рассмотрим две реализации SVD с семинаров \n",
    "\n",
    "Первая реализация - ручная, с инициализацией векторов и пошаговым подсчётом градиентного спуска."
   ]
  },
  {
   "attachments": {},
   "cell_type": "markdown",
   "metadata": {},
   "source": [
    "#### 5.1 Модель 1: ручная по словарикам"
   ]
  },
  {
   "cell_type": "code",
   "execution_count": 101,
   "metadata": {},
   "outputs": [],
   "source": [
    "# параметры для тьюнинга\n",
    "\n",
    "latent_features = 5 # кол-во скрытых параметров\n",
    "gamma = 0.01 # параметр скорости обучения"
   ]
  },
  {
   "attachments": {},
   "cell_type": "markdown",
   "metadata": {},
   "source": [
    "Шаг 1: заполняем матрицы вручную случайными числами.\n",
    "\n",
    "В **SVD** матрица декомпозируется на две (три) - $U, V^t$ и $\\Sigma$ (последняя - диагональная матрица весов латентных фич, которая в принципе может быть представлена в виде листа). В ручной реализации мы сигму не делаем."
   ]
  },
  {
   "cell_type": "code",
   "execution_count": 129,
   "metadata": {},
   "outputs": [],
   "source": [
    "latent_features = 5 # кол-во скрытых параметров\n",
    "users1 = train['userId']\n",
    "movies1 = train['movie']\n",
    "\n",
    "Pi = {} # вектор из numLf параметров для каждого пользователя (часто случайно)\n",
    "Bi = {} # среднее искажение пользователя (часто среднее)\n",
    "for u in users1:\n",
    "    Bi[u] = 0  # avg_user_rating[u] # как альтернатива\n",
    "    Pi[u] = []\n",
    "    for i in range(latent_features):\n",
    "        Pi[u].append(random.random())\n",
    "\n",
    "# повторяем для фильмов\n",
    "Ba = {}\n",
    "Qa = {}        \n",
    "for m in movies1:\n",
    "    Ba[m] = 0 # начало\n",
    "    Qa[m] = []\n",
    "    for i in range(latent_features):\n",
    "        Qa[m].append(random.random())"
   ]
  },
  {
   "cell_type": "markdown",
   "metadata": {},
   "source": [
    "Для получения оценки прибавим к скалярному произведению векторов базисы по пользователю и фильму"
   ]
  },
  {
   "cell_type": "code",
   "execution_count": 103,
   "metadata": {},
   "outputs": [],
   "source": [
    "users_list = train[['userId', 'movie']].values.tolist() \n",
    "\n",
    "ratings_list = {}\n",
    "for u in train['userId'].unique():\n",
    "    ratings_list.update({u: {}})\n",
    "    for i, row in train[train['userId'] == u][['movie', 'rating']].iterrows():\n",
    "        ratings_list[u].update({row[0]: row[1]})"
   ]
  },
  {
   "cell_type": "code",
   "execution_count": 130,
   "metadata": {},
   "outputs": [],
   "source": [
    "# можем проверить только фильмы, фигурировавшие в трейнинге\n",
    "valid = valid[valid['movie'].isin(train['movie'].unique())]\n",
    "users_list_val = valid[['userId', 'movie']].values.tolist() \n",
    "\n",
    "ratings_list_val = {}\n",
    "for u in valid['userId'].unique():\n",
    "    ratings_list_val.update({u: {}})\n",
    "    for i, row in valid[valid['userId'] == u][['movie', 'rating']].iterrows():\n",
    "        ratings_list_val[u].update({row[0]: row[1]})"
   ]
  },
  {
   "cell_type": "code",
   "execution_count": 131,
   "metadata": {},
   "outputs": [
    {
     "data": {
      "text/plain": [
       "451647.014055869"
      ]
     },
     "execution_count": 131,
     "metadata": {},
     "output_type": "execute_result"
    }
   ],
   "source": [
    "def evaluate_ratings(rating_list, critics, Pi=Pi, Qa=Qa, Bi=Bi, Ba=Ba, L = latent_features):\n",
    "    summ = 0\n",
    "    for (u,m) in rating_list:\n",
    "        rate = Bi[u] + Ba[m]\n",
    "        for i in range(L):\n",
    "            rate += Pi[u][i]*Qa[m][i]\n",
    "        summ += (critics[u][m] - rate)*(critics[u][m] - rate)\n",
    "    return summ\n",
    "\n",
    "evaluate_ratings(users_list, ratings_list)"
   ]
  },
  {
   "cell_type": "code",
   "execution_count": 132,
   "metadata": {},
   "outputs": [
    {
     "data": {
      "text/plain": [
       "77006.6975015224"
      ]
     },
     "execution_count": 132,
     "metadata": {},
     "output_type": "execute_result"
    }
   ],
   "source": [
    "evaluate_ratings(users_list_val, ratings_list_val)"
   ]
  },
  {
   "attachments": {},
   "cell_type": "markdown",
   "metadata": {},
   "source": [
    "Шаг 2: запускаем градиентный спуск с целью оптимизации SVD. Цель - найти точку схождения по минимумам как на тренировочной выборке, так и на валидационной. Данные будем архивировать каждые 10 шагов по мере обучения."
   ]
  },
  {
   "cell_type": "markdown",
   "metadata": {},
   "source": [
    "* для начала 1000 запусков"
   ]
  },
  {
   "cell_type": "code",
   "execution_count": 133,
   "metadata": {},
   "outputs": [],
   "source": [
    "# status bar\n",
    "# !pip install tqdm\n",
    "from tqdm.notebook import tqdm\n",
    "from IPython.display import display, clear_output\n",
    "\n",
    "# собираем логи\n",
    "history = []\n",
    "sco = []\n"
   ]
  },
  {
   "cell_type": "code",
   "execution_count": 134,
   "metadata": {},
   "outputs": [
    {
     "name": "stderr",
     "output_type": "stream",
     "text": [
      "  4%|▍         | 1/25 [00:10<04:06, 10.27s/it]"
     ]
    },
    {
     "name": "stdout",
     "output_type": "stream",
     "text": [
      "train: 47521.038125744075\n",
      "valid: 9956.996841033168\n"
     ]
    },
    {
     "name": "stderr",
     "output_type": "stream",
     "text": [
      "  8%|▊         | 2/25 [00:22<04:26, 11.59s/it]"
     ]
    },
    {
     "name": "stdout",
     "output_type": "stream",
     "text": [
      "train: 40384.66935975435\n",
      "valid: 10043.423193308163\n"
     ]
    },
    {
     "name": "stderr",
     "output_type": "stream",
     "text": [
      " 12%|█▏        | 3/25 [00:34<04:19, 11.79s/it]"
     ]
    },
    {
     "name": "stdout",
     "output_type": "stream",
     "text": [
      "train: 35786.50053118326\n",
      "valid: 10324.47985477169\n"
     ]
    },
    {
     "name": "stderr",
     "output_type": "stream",
     "text": [
      " 16%|█▌        | 4/25 [00:46<04:03, 11.58s/it]"
     ]
    },
    {
     "name": "stdout",
     "output_type": "stream",
     "text": [
      "train: 32811.443600549355\n",
      "valid: 10548.32212809913\n"
     ]
    },
    {
     "name": "stderr",
     "output_type": "stream",
     "text": [
      " 20%|██        | 5/25 [00:59<04:06, 12.30s/it]"
     ]
    },
    {
     "name": "stdout",
     "output_type": "stream",
     "text": [
      "train: 30763.970954066168\n",
      "valid: 10746.549932835163\n"
     ]
    },
    {
     "name": "stderr",
     "output_type": "stream",
     "text": [
      " 24%|██▍       | 6/25 [01:12<03:59, 12.63s/it]"
     ]
    },
    {
     "name": "stdout",
     "output_type": "stream",
     "text": [
      "train: 29305.198840975212\n",
      "valid: 10940.892373485822\n"
     ]
    },
    {
     "name": "stderr",
     "output_type": "stream",
     "text": [
      " 28%|██▊       | 7/25 [01:26<03:51, 12.87s/it]"
     ]
    },
    {
     "name": "stdout",
     "output_type": "stream",
     "text": [
      "train: 28239.962010272273\n",
      "valid: 11134.735274382976\n"
     ]
    },
    {
     "name": "stderr",
     "output_type": "stream",
     "text": [
      " 32%|███▏      | 8/25 [01:38<03:37, 12.78s/it]"
     ]
    },
    {
     "name": "stdout",
     "output_type": "stream",
     "text": [
      "train: 27438.275134007123\n",
      "valid: 11324.448821356114\n"
     ]
    },
    {
     "name": "stderr",
     "output_type": "stream",
     "text": [
      " 36%|███▌      | 9/25 [01:52<03:29, 13.12s/it]"
     ]
    },
    {
     "name": "stdout",
     "output_type": "stream",
     "text": [
      "train: 26813.025385346307\n",
      "valid: 11506.087417015398\n"
     ]
    },
    {
     "name": "stderr",
     "output_type": "stream",
     "text": [
      " 40%|████      | 10/25 [02:06<03:21, 13.42s/it]"
     ]
    },
    {
     "name": "stdout",
     "output_type": "stream",
     "text": [
      "train: 26307.5241498957\n",
      "valid: 11677.788521429755\n"
     ]
    },
    {
     "name": "stderr",
     "output_type": "stream",
     "text": [
      " 44%|████▍     | 11/25 [02:21<03:13, 13.79s/it]"
     ]
    },
    {
     "name": "stdout",
     "output_type": "stream",
     "text": [
      "train: 25886.018126654475\n",
      "valid: 11839.400061232303\n"
     ]
    },
    {
     "name": "stderr",
     "output_type": "stream",
     "text": [
      " 48%|████▊     | 12/25 [02:35<03:01, 13.99s/it]"
     ]
    },
    {
     "name": "stdout",
     "output_type": "stream",
     "text": [
      "train: 25525.920090654865\n",
      "valid: 11991.567350260548\n"
     ]
    },
    {
     "name": "stderr",
     "output_type": "stream",
     "text": [
      " 52%|█████▏    | 13/25 [02:50<02:50, 14.22s/it]"
     ]
    },
    {
     "name": "stdout",
     "output_type": "stream",
     "text": [
      "train: 25212.550941089143\n",
      "valid: 12135.191528035457\n"
     ]
    },
    {
     "name": "stderr",
     "output_type": "stream",
     "text": [
      " 56%|█████▌    | 14/25 [03:04<02:35, 14.13s/it]"
     ]
    },
    {
     "name": "stdout",
     "output_type": "stream",
     "text": [
      "train: 24936.055568887823\n",
      "valid: 12271.202029666234\n"
     ]
    },
    {
     "name": "stderr",
     "output_type": "stream",
     "text": [
      " 60%|██████    | 15/25 [03:18<02:21, 14.13s/it]"
     ]
    },
    {
     "name": "stdout",
     "output_type": "stream",
     "text": [
      "train: 24689.616392019827\n",
      "valid: 12400.463425388\n"
     ]
    },
    {
     "name": "stderr",
     "output_type": "stream",
     "text": [
      " 64%|██████▍   | 16/25 [03:31<02:04, 13.78s/it]"
     ]
    },
    {
     "name": "stdout",
     "output_type": "stream",
     "text": [
      "train: 24468.352236227256\n",
      "valid: 12523.740044607135\n"
     ]
    },
    {
     "name": "stderr",
     "output_type": "stream",
     "text": [
      " 68%|██████▊   | 17/25 [03:44<01:47, 13.46s/it]"
     ]
    },
    {
     "name": "stdout",
     "output_type": "stream",
     "text": [
      "train: 24268.601750146183\n",
      "valid: 12641.697980603465\n"
     ]
    },
    {
     "name": "stderr",
     "output_type": "stream",
     "text": [
      " 72%|███████▏  | 18/25 [03:57<01:33, 13.41s/it]"
     ]
    },
    {
     "name": "stdout",
     "output_type": "stream",
     "text": [
      "train: 24087.46431340395\n",
      "valid: 12754.926470365672\n"
     ]
    },
    {
     "name": "stderr",
     "output_type": "stream",
     "text": [
      " 76%|███████▌  | 19/25 [04:11<01:21, 13.60s/it]"
     ]
    },
    {
     "name": "stdout",
     "output_type": "stream",
     "text": [
      "train: 23922.533501347814\n",
      "valid: 12863.956488057569\n"
     ]
    },
    {
     "name": "stderr",
     "output_type": "stream",
     "text": [
      " 80%|████████  | 20/25 [04:27<01:11, 14.23s/it]"
     ]
    },
    {
     "name": "stdout",
     "output_type": "stream",
     "text": [
      "train: 23771.763057798627\n",
      "valid: 12969.265715054456\n"
     ]
    },
    {
     "name": "stderr",
     "output_type": "stream",
     "text": [
      " 84%|████████▍ | 21/25 [04:40<00:55, 13.87s/it]"
     ]
    },
    {
     "name": "stdout",
     "output_type": "stream",
     "text": [
      "train: 23633.40389530017\n",
      "valid: 13071.274043881553\n"
     ]
    },
    {
     "name": "stderr",
     "output_type": "stream",
     "text": [
      " 88%|████████▊ | 22/25 [04:55<00:42, 14.14s/it]"
     ]
    },
    {
     "name": "stdout",
     "output_type": "stream",
     "text": [
      "train: 23505.96621676133\n",
      "valid: 13170.338800787475\n"
     ]
    },
    {
     "name": "stderr",
     "output_type": "stream",
     "text": [
      " 92%|█████████▏| 23/25 [05:08<00:27, 13.82s/it]"
     ]
    },
    {
     "name": "stdout",
     "output_type": "stream",
     "text": [
      "train: 23388.185560458798\n",
      "valid: 13266.755143859646\n"
     ]
    },
    {
     "name": "stderr",
     "output_type": "stream",
     "text": [
      " 96%|█████████▌| 24/25 [05:22<00:13, 13.90s/it]"
     ]
    },
    {
     "name": "stdout",
     "output_type": "stream",
     "text": [
      "train: 23278.98915916499\n",
      "valid: 13360.76194459642\n"
     ]
    },
    {
     "name": "stderr",
     "output_type": "stream",
     "text": [
      "100%|██████████| 25/25 [05:37<00:00, 13.49s/it]"
     ]
    },
    {
     "name": "stdout",
     "output_type": "stream",
     "text": [
      "train: 23177.464709494212\n",
      "valid: 13452.550892604871\n",
      "CPU times: total: 5min 31s\n",
      "Wall time: 5min 37s\n"
     ]
    },
    {
     "name": "stderr",
     "output_type": "stream",
     "text": [
      "\n"
     ]
    }
   ],
   "source": [
    "%%time\n",
    "\n",
    "gamma = 0.01 # \n",
    "\n",
    "for iii in tqdm(range(25)): # число эпох * 10\n",
    "\n",
    "    for jjj in range(10): \n",
    "\n",
    "        score_train = evaluate_ratings(users_list, ratings_list)\n",
    "        score_val = evaluate_ratings(users_list_val, ratings_list_val)\n",
    "        sco.append([score_train, score_val])\n",
    "\n",
    "        for (u, m) in users_list:\n",
    "        #one step of gradient\n",
    "            rate = Bi[u] + Ba[m]\n",
    "            for i in range(latent_features):\n",
    "                rate += Pi[u][i]*Qa[m][i]\n",
    "\n",
    "            error = rate - ratings_list[u][m]\n",
    "            deltaBi = gamma*error     \n",
    "            deltaBa = gamma*error     \n",
    "            Bi[u] -= deltaBi\n",
    "            Ba[m] -= deltaBi\n",
    "\n",
    "            for i in range(latent_features):\n",
    "                deltaPi = (gamma*error*Qa[m][i])\n",
    "                deltaQa = (gamma*error*Pi[u][i])\n",
    "                Pi[u][i] -= deltaPi\n",
    "                Qa[m][i] -= deltaQa\n",
    "\n",
    "    print(\"train:\", score_train)\n",
    "    print(\"valid:\", score_val)\n",
    "\n",
    "    history.append([len(history)+1, deepcopy(Pi), deepcopy(Qa), Bi.copy(), Ba.copy(), score_train, score_val])\n",
    "    # clear_output(wait=True)"
   ]
  },
  {
   "cell_type": "code",
   "execution_count": 135,
   "metadata": {},
   "outputs": [
    {
     "data": {
      "text/plain": [
       "<Figure size 640x480 with 0 Axes>"
      ]
     },
     "metadata": {},
     "output_type": "display_data"
    },
    {
     "data": {
      "text/plain": [
       "<Figure size 640x480 with 0 Axes>"
      ]
     },
     "metadata": {},
     "output_type": "display_data"
    },
    {
     "data": {
      "image/png": "[encoded data removed]",
      "text/plain": [
       "<Figure size 432x288 with 2 Axes>"
      ]
     },
     "metadata": {
      "needs_background": "light"
     },
     "output_type": "display_data"
    }
   ],
   "source": [
    "from matplotlib import pyplot as plt\n",
    "\n",
    "plt.figure(figsize=(8, 6), dpi=80)\n",
    "\n",
    "# исключаем нулевую эпоху, т.к. с первого шага оч существенный прирост\n",
    "# val_scores = [val[-1] for val in history]\n",
    "# train_scores = [val[-2] for val in history]\n",
    "# epoch = [val[-0] for val in history]\n",
    "\n",
    "val_scores = [val[1] for val in sco][1:]\n",
    "train_scores = [val[0] for val in sco][1:]\n",
    "epoch = [val for val in range(len(sco))][1:]\n",
    "\n",
    "plt.figure(figsize=(8, 6), dpi=80)\n",
    "\n",
    "# create figure and axis objects with subplots()\n",
    "fig,ax = plt.subplots()\n",
    "# make a plot\n",
    "ax.plot(epoch,\n",
    "        train_scores,\n",
    "        color=\"blue\", \n",
    "        marker=\"o\")\n",
    "# set x-axis label\n",
    "ax.set_xlabel(\"epoch\", fontsize = 14)\n",
    "# set y-axis label\n",
    "ax.set_ylabel(\"MSE on Train_set\",\n",
    "              color=\"blue\",\n",
    "              fontsize=14)\n",
    "\n",
    "# twin object for two different y-axis on the sample plot\n",
    "ax2=ax.twinx()\n",
    "# make a plot with different y-axis using second axis object\n",
    "ax2.plot(epoch, val_scores, color=\"red\",marker=\"o\")\n",
    "ax2.set_ylabel(\"MSE on Validation_set\", color=\"red\",fontsize=14)\n",
    "plt.show();"
   ]
  },
  {
   "attachments": {},
   "cell_type": "markdown",
   "metadata": {},
   "source": [
    "Я не понимаю почему точность на валидационной падает. Прикинул на нескольких эпохах конкретные пары пользователь фильм, и отклонения тут не выглядят существенно хуже:"
   ]
  },
  {
   "cell_type": "code",
   "execution_count": 136,
   "metadata": {},
   "outputs": [
    {
     "name": "stdout",
     "output_type": "stream",
     "text": [
      "Epoch: 0, Predicted: 4.285317262750242, Real: 5.0\n",
      "Epoch: 5, Predicted: 4.4913730427911265, Real: 5.0\n",
      "Epoch: 10, Predicted: 4.52848831812623, Real: 5.0\n",
      "Epoch: 15, Predicted: 4.507960545203615, Real: 5.0\n",
      "Epoch: 19, Predicted: 4.510132827566564, Real: 5.0\n",
      "\n",
      "\n",
      "Epoch: 0, Predicted: 4.139335334146587, Real: 4.0\n",
      "Epoch: 5, Predicted: 3.8660126577999403, Real: 4.0\n",
      "Epoch: 10, Predicted: 3.8036941166674074, Real: 4.0\n",
      "Epoch: 15, Predicted: 3.7701933131581233, Real: 4.0\n",
      "Epoch: 19, Predicted: 3.7317071999765163, Real: 4.0\n",
      "\n",
      "\n",
      "Epoch: 0, Predicted: 3.5446273714611065, Real: 5.0\n",
      "Epoch: 5, Predicted: 3.7740530393010525, Real: 5.0\n",
      "Epoch: 10, Predicted: 3.7276873531717474, Real: 5.0\n",
      "Epoch: 15, Predicted: 3.7036184245707293, Real: 5.0\n",
      "Epoch: 19, Predicted: 3.7094326843566607, Real: 5.0\n",
      "\n",
      "\n",
      "Epoch: 0, Predicted: 4.96681853708281, Real: 5.0\n",
      "Epoch: 5, Predicted: 4.75283448263074, Real: 5.0\n",
      "Epoch: 10, Predicted: 4.838200008845682, Real: 5.0\n",
      "Epoch: 15, Predicted: 4.886498141661327, Real: 5.0\n",
      "Epoch: 19, Predicted: 4.902275783367418, Real: 5.0\n",
      "\n",
      "\n",
      "Epoch: 0, Predicted: 4.635246640170125, Real: 5.0\n",
      "Epoch: 5, Predicted: 4.7005157252167775, Real: 5.0\n",
      "Epoch: 10, Predicted: 4.725128375573518, Real: 5.0\n",
      "Epoch: 15, Predicted: 4.721130966763961, Real: 5.0\n",
      "Epoch: 19, Predicted: 4.70051743961839, Real: 5.0\n",
      "\n",
      "\n"
     ]
    }
   ],
   "source": [
    "# history.append([iii, Pi, Qa, Bi, Ba, score_train, score_val])\n",
    "user = 1\n",
    "for film in valid[valid['userId']==user].head()['movie']: \n",
    "    for i in (0,5,10,15,19):\n",
    "        e1 = 0\n",
    "        for j in range(5):\n",
    "            e1 += history[i][1][user][j] * history[i][2][film][j]\n",
    "\n",
    "        print(f\"Epoch: {i}, Predicted: {e1+history[i][3][user]+history[i][4][film]}, Real: {valid[(valid['userId'] == user) & (valid['movie'] == film)]['rating'].item()}\")\n",
    "    print('\\n')\n",
    "\n",
    "# print(, \"while actual is\", 3)"
   ]
  },
  {
   "attachments": {},
   "cell_type": "markdown",
   "metadata": {},
   "source": [
    "* Попробовал поменять `seed()`: это не помогло, графики всё равно симметричны => дело не в случайном разбиении.  \n",
    "* Поменял `learning_rate`, но это всего лишь сдвинуло начало роста ошибки на валидационной на пару эпох.  \n",
    "\n",
    "Срезать спуск на пятом шаге кажется бессмысленным: хотя это и даст наименьшую ошибку по `Validation_set`, на тренировочной модель всё ещё имеет большой потенциал к дообучению. Я не понимаю, как это исправить.  "
   ]
  },
  {
   "attachments": {},
   "cell_type": "markdown",
   "metadata": {},
   "source": [
    "#### 5.2 SVD II (реализация через матрицы и класс)"
   ]
  },
  {
   "cell_type": "code",
   "execution_count": 503,
   "metadata": {},
   "outputs": [],
   "source": [
    "n_users = ratings['userId'].unique().shape[0]\n",
    "n_items = ratings['movieId'].unique().shape[0]\n",
    "\n",
    "movie_recode = {}\n",
    "current_next_free_movie_id = 0\n",
    "original_movie_id = []\n",
    "\n",
    "# Создаем r_{ui} - нашу матрицу оценок\n",
    "matrix = np.zeros((n_users, n_items))\n",
    "for row in ratings.itertuples():\n",
    "    if (row[2]) not in movie_recode:\n",
    "        movie_recode[row[2]] = current_next_free_movie_id\n",
    "        current_next_free_movie_id += 1\n",
    "        original_movie_id.append(row[2])\n",
    "    matrix[row[1]-1, movie_recode[row[2]]] = row[4]"
   ]
  },
  {
   "cell_type": "code",
   "execution_count": 504,
   "metadata": {},
   "outputs": [],
   "source": [
    "# скрываем тест\n",
    "for row in final_test.itertuples():\n",
    "    matrix[row[1]-1, movie_recode[row[2]]] = 0.0\n",
    "\n",
    "# скрываем валидационную\n",
    "for row in valid.itertuples():\n",
    "    matrix[row[1]-1, movie_recode[row[2]]] = 0.0"
   ]
  },
  {
   "cell_type": "code",
   "execution_count": 505,
   "metadata": {},
   "outputs": [],
   "source": [
    "# создаём валидационную матрицу\n",
    "matrix_val = np.zeros((n_users, n_items))\n",
    "for row in valid.itertuples():\n",
    "    matrix_val[row[1]-1, movie_recode[row[2]]] = row[4]\n",
    "\n",
    "# создаём тестовую матрицу\n",
    "matrix_test = np.zeros((n_users, n_items))\n",
    "for row in final_test.itertuples():\n",
    "    matrix_test[row[1]-1, movie_recode[row[2]]] = row[4]"
   ]
  },
  {
   "cell_type": "markdown",
   "metadata": {},
   "source": [
    "Проверка:"
   ]
  },
  {
   "cell_type": "code",
   "execution_count": 506,
   "metadata": {},
   "outputs": [
    {
     "name": "stdout",
     "output_type": "stream",
     "text": [
      "Пересечений нет\n"
     ]
    }
   ],
   "source": [
    "if np.all((matrix * matrix_val) == 0) & np.all((matrix * matrix_test) == 0): print(\"Пересечений нет\")"
   ]
  },
  {
   "attachments": {},
   "cell_type": "markdown",
   "metadata": {},
   "source": [
    "Теперь объект `matrix` - не что иное как трейнинговый датасет, в котором все неизвестные значения заменены нулями."
   ]
  },
  {
   "attachments": {},
   "cell_type": "markdown",
   "metadata": {},
   "source": [
    "В качестве метрики будем снова использовать **MSE**, потому что эту же штуку мы использовали в предыдущей модели:\n"
   ]
  },
  {
   "cell_type": "code",
   "execution_count": 233,
   "metadata": {},
   "outputs": [],
   "source": [
    "from sklearn.metrics import mean_squared_error\n",
    "\n",
    "def get_mse(pred, actual):\n",
    "    pred = pred[actual.nonzero()].flatten()\n",
    "    actual = actual[actual.nonzero()].flatten()\n",
    "    return mean_squared_error(pred, actual)"
   ]
  },
  {
   "attachments": {},
   "cell_type": "markdown",
   "metadata": {},
   "source": [
    "Сама реализация (честно украденная с пары):"
   ]
  },
  {
   "cell_type": "code",
   "execution_count": 234,
   "metadata": {},
   "outputs": [],
   "source": [
    "from numpy.linalg import solve\n",
    "\n",
    "class ExplicitMF():\n",
    "    def __init__(self, \n",
    "                 ratings,\n",
    "                 n_factors=40,\n",
    "                 learning='sgd',\n",
    "                 item_fact_reg=0.0, \n",
    "                 user_fact_reg=0.0,\n",
    "                 item_bias_reg=0.0,\n",
    "                 user_bias_reg=0.0,\n",
    "                 verbose=False):\n",
    "        \"\"\"\n",
    "        Train a matrix factorization model to predict empty \n",
    "        entries in a matrix. The terminology assumes a \n",
    "        ratings matrix which is ~ user x item\n",
    "        \n",
    "        Params\n",
    "        ======\n",
    "        ratings : (ndarray)\n",
    "            User x Item matrix with corresponding ratings\n",
    "        \n",
    "        n_factors : (int)\n",
    "            Number of latent factors to use in matrix \n",
    "            factorization model\n",
    "        learning : (str)\n",
    "            Method of optimization. Options include \n",
    "            'sgd' or 'als'.\n",
    "        \n",
    "        item_fact_reg : (float)\n",
    "            Regularization term for item latent factors\n",
    "        \n",
    "        user_fact_reg : (float)\n",
    "            Regularization term for user latent factors\n",
    "            \n",
    "        item_bias_reg : (float)\n",
    "            Regularization term for item biases\n",
    "        \n",
    "        user_bias_reg : (float)\n",
    "            Regularization term for user biases\n",
    "        \n",
    "        verbose : (bool)\n",
    "            Whether or not to printout training progress\n",
    "        \"\"\"\n",
    "        \n",
    "        self.ratings = ratings\n",
    "        self.n_users, self.n_items = ratings.shape\n",
    "        self.n_factors = n_factors\n",
    "        self.item_fact_reg = item_fact_reg\n",
    "        self.user_fact_reg = user_fact_reg\n",
    "        self.item_bias_reg = item_bias_reg\n",
    "        self.user_bias_reg = user_bias_reg\n",
    "        self.learning = learning\n",
    "        if self.learning == 'sgd':\n",
    "            self.sample_row, self.sample_col = self.ratings.nonzero()\n",
    "            self.n_samples = len(self.sample_row)\n",
    "        if self.learning == 'sgd_no_bias':\n",
    "            self.sample_row, self.sample_col = self.ratings.nonzero()\n",
    "            self.n_samples = len(self.sample_row)\n",
    "\n",
    "        self._v = verbose\n",
    "\n",
    "    def als_step(self,\n",
    "                 latent_vectors,\n",
    "                 fixed_vecs,\n",
    "                 ratings,\n",
    "                 _lambda,\n",
    "                 type='user'):\n",
    "        \"\"\"\n",
    "        One of the two ALS steps. Solve for the latent vectors\n",
    "        specified by type.\n",
    "        \"\"\"\n",
    "        if type == 'user':\n",
    "            # Precompute\n",
    "            YTY = fixed_vecs.T.dot(fixed_vecs)\n",
    "            lambdaI = np.eye(YTY.shape[0]) * _lambda\n",
    "\n",
    "            for u in range(latent_vectors.shape[0]):\n",
    "                latent_vectors[u, :] = solve((YTY + lambdaI), \n",
    "                                             ratings[u, :].dot(fixed_vecs))\n",
    "        elif type == 'item':\n",
    "            # Precompute\n",
    "            XTX = fixed_vecs.T.dot(fixed_vecs)\n",
    "            lambdaI = np.eye(XTX.shape[0]) * _lambda\n",
    "            \n",
    "            for i in range(latent_vectors.shape[0]):\n",
    "                latent_vectors[i, :] = solve((XTX + lambdaI), \n",
    "                                             ratings[:, i].T.dot(fixed_vecs))\n",
    "        return latent_vectors\n",
    "\n",
    "    def train(self, n_iter=10, learning_rate=0.1):\n",
    "        \"\"\" Train model for n_iter iterations from scratch.\"\"\"\n",
    "        # initialize latent vectors        \n",
    "        self.user_vecs = np.random.normal(scale=1./self.n_factors, size=(self.n_users, self.n_factors))\n",
    "        self.item_vecs = np.random.normal(scale=1./self.n_factors, size=(self.n_items, self.n_factors))\n",
    "        \n",
    "        if self.learning == 'als':\n",
    "            self.partial_train(n_iter,0)\n",
    "        elif self.learning == 'sgd':\n",
    "            self.learning_rate = learning_rate\n",
    "            self.user_bias = np.zeros(self.n_users)\n",
    "            self.item_bias = np.zeros(self.n_items)\n",
    "            self.global_bias = np.mean(self.ratings[np.where(self.ratings != 0)])\n",
    "            self.partial_train(n_iter,0)\n",
    "        elif self.learning == 'sgd_no_bias':\n",
    "            self.learning_rate = learning_rate\n",
    "            self.user_bias = np.zeros(self.n_users)\n",
    "            self.item_bias = np.zeros(self.n_items)\n",
    "            self.global_bias = 0 #np.mean(self.ratings[np.where(self.ratings != 0)])\n",
    "            self.partial_train(n_iter,0)\n",
    "    \n",
    "    \n",
    "    def partial_train(self, n_iter, iter_done):\n",
    "        \"\"\" \n",
    "        Train model for n_iter iterations. Can be \n",
    "        called multiple times for further training.\n",
    "        \"\"\"\n",
    "        ctr = 1\n",
    "        while ctr <= n_iter:\n",
    "            if (ctr+iter_done) % 10 == 0 and self._v:\n",
    "                print (f'\\tcurrent iteration: {ctr+iter_done}')\n",
    "            if self.learning == 'als':\n",
    "                self.user_vecs = self.als_step(self.user_vecs, \n",
    "                                               self.item_vecs, \n",
    "                                               self.ratings, \n",
    "                                               self.user_fact_reg, \n",
    "                                               type='user')\n",
    "                self.item_vecs = self.als_step(self.item_vecs, \n",
    "                                               self.user_vecs, \n",
    "                                               self.ratings, \n",
    "                                               self.item_fact_reg, \n",
    "                                               type='item')\n",
    "            elif self.learning == 'sgd':\n",
    "                self.training_indices = np.arange(self.n_samples)\n",
    "                np.random.shuffle(self.training_indices)\n",
    "                self.sgd()\n",
    "            elif self.learning == 'sgd_no_bias':\n",
    "                self.training_indices = np.arange(self.n_samples)\n",
    "                np.random.shuffle(self.training_indices)\n",
    "                self.sgd(True)\n",
    "            ctr += 1\n",
    "\n",
    "    def sgd(self, no_bias_estimate = False):\n",
    "        for idx in self.training_indices:\n",
    "            u = self.sample_row[idx]\n",
    "            i = self.sample_col[idx]\n",
    "            prediction = self.predict(u, i)\n",
    "            e = (self.ratings[u,i] - prediction) # error\n",
    "            \n",
    "            if not no_bias_estimate:\n",
    "                # Update biases\n",
    "                self.user_bias[u] += self.learning_rate * (e - self.user_bias_reg * self.user_bias[u])\n",
    "                self.item_bias[i] += self.learning_rate * (e - self.item_bias_reg * self.item_bias[i])\n",
    "            \n",
    "            #Update latent factors\n",
    "            self.user_vecs[u, :] += self.learning_rate *\\\n",
    "                                    (e * self.item_vecs[i, :] - self.user_fact_reg * self.user_vecs[u,:])\n",
    "            self.item_vecs[i, :] += self.learning_rate * \\\n",
    "                                    (e * self.user_vecs[u, :] - self.item_fact_reg * self.item_vecs[i,:])\n",
    "    def predict(self, u, i):\n",
    "        \"\"\" Single user and item prediction.\"\"\"\n",
    "        if self.learning == 'als':\n",
    "            return self.user_vecs[u, :].dot(self.item_vecs[i, :].T)\n",
    "        elif self.learning == 'sgd':\n",
    "            prediction = self.global_bias + self.user_bias[u] + self.item_bias[i]\n",
    "            prediction += self.user_vecs[u, :].dot(self.item_vecs[i, :].T)\n",
    "            return prediction\n",
    "        elif self.learning == 'sgd_no_bias':\n",
    "            prediction = self.global_bias + self.user_bias[u] + self.item_bias[i]\n",
    "            prediction += self.user_vecs[u, :].dot(self.item_vecs[i, :].T)\n",
    "            return prediction\n",
    "    \n",
    "    def predict_all(self):\n",
    "        \"\"\" Predict ratings for every user and item.\"\"\"\n",
    "        predictions = np.zeros((self.user_vecs.shape[0], \n",
    "                                self.item_vecs.shape[0]))\n",
    "        for u in range(self.user_vecs.shape[0]):\n",
    "            for i in range(self.item_vecs.shape[0]):\n",
    "                predictions[u, i] = self.predict(u, i)\n",
    "                \n",
    "        return predictions\n",
    "    \n",
    "    def calculate_learning_curve(self, iter_array, test, learning_rate=0.1):\n",
    "        \"\"\"\n",
    "        Keep track of MSE as a function of training iterations.\n",
    "        \n",
    "        Params\n",
    "        ======\n",
    "        iter_array : (list)\n",
    "            List of numbers of iterations to train for each step of \n",
    "            the learning curve. e.g. [1, 5, 10, 20]\n",
    "        test : (2D ndarray)\n",
    "            Testing dataset (assumed to be user x item).\n",
    "        \n",
    "        The function creates two new class attributes:\n",
    "        \n",
    "        train_mse : (list)\n",
    "            Training data MSE values for each value of iter_array\n",
    "        test_mse : (list)\n",
    "            Test data MSE values for each value of iter_array\n",
    "        \"\"\"\n",
    "        iter_array.sort()\n",
    "        self.train_mse =[]\n",
    "        self.test_mse = []\n",
    "        iter_diff = 0\n",
    "        for (i, n_iter) in enumerate(iter_array):\n",
    "            if self._v:\n",
    "                print (f'Iteration: {n_iter}')\n",
    "            if i == 0:\n",
    "                self.train(n_iter - iter_diff, learning_rate)\n",
    "            else:\n",
    "                self.partial_train(n_iter - iter_diff, iter_diff)\n",
    "\n",
    "            predictions = self.predict_all()\n",
    "\n",
    "            self.train_mse += [get_mse(predictions, self.ratings)]\n",
    "            self.test_mse += [get_mse(predictions, test)]\n",
    "            if self._v:\n",
    "                print (f'MSE train:test: {round(self.train_mse[-1],2)} : {round(self.test_mse[-1],2)}\\n')\n",
    "            iter_diff = n_iter\n",
    "\n",
    "%matplotlib inline\n",
    "import matplotlib.pyplot as plt\n",
    "import seaborn as sns\n",
    "sns.set()\n",
    "\n",
    "def plot_learning_curve(iter_array, model):\n",
    "    plt.plot(iter_array, model.train_mse, \\\n",
    "             label='Training', linewidth=3)\n",
    "    plt.plot(iter_array, model.test_mse, \\\n",
    "             label='Test', linewidth=3)\n",
    "\n",
    "\n",
    "    plt.xticks(fontsize=16);\n",
    "    plt.yticks(fontsize=16);\n",
    "    plt.xlabel('Iterations', fontsize=25);\n",
    "    plt.ylabel('MSE', fontsize=25);\n",
    "    plt.legend(loc='best', fontsize=20);"
   ]
  },
  {
   "attachments": {},
   "cell_type": "markdown",
   "metadata": {},
   "source": [
    "Запустим градиентный спуск:"
   ]
  },
  {
   "cell_type": "code",
   "execution_count": 254,
   "metadata": {},
   "outputs": [],
   "source": [
    "np.random.seed(42)\n",
    "MF_SGD = ExplicitMF(matrix, 5, learning='sgd', verbose=True)\n",
    "iter_array = [1, 2, 5, 10, 25, 50, 100, 150]"
   ]
  },
  {
   "cell_type": "code",
   "execution_count": 255,
   "metadata": {},
   "outputs": [
    {
     "name": "stdout",
     "output_type": "stream",
     "text": [
      "Iteration: 1\n",
      "MSE train:test: 0.99 : 1.0\n",
      "\n",
      "Iteration: 2\n",
      "MSE train:test: 0.94 : 0.96\n",
      "\n",
      "Iteration: 5\n",
      "MSE train:test: 0.87 : 0.89\n",
      "\n",
      "Iteration: 10\n",
      "\tcurrent iteration: 10\n",
      "MSE train:test: 0.82 : 0.85\n",
      "\n",
      "Iteration: 25\n",
      "\tcurrent iteration: 20\n",
      "MSE train:test: 0.76 : 0.81\n",
      "\n",
      "Iteration: 50\n",
      "\tcurrent iteration: 30\n",
      "\tcurrent iteration: 40\n",
      "\tcurrent iteration: 50\n",
      "MSE train:test: 0.71 : 0.79\n",
      "\n",
      "Iteration: 100\n",
      "\tcurrent iteration: 60\n",
      "\tcurrent iteration: 70\n",
      "\tcurrent iteration: 80\n",
      "\tcurrent iteration: 90\n",
      "\tcurrent iteration: 100\n",
      "MSE train:test: 0.63 : 0.78\n",
      "\n",
      "Iteration: 150\n",
      "\tcurrent iteration: 110\n",
      "\tcurrent iteration: 120\n",
      "\tcurrent iteration: 130\n",
      "\tcurrent iteration: 140\n",
      "\tcurrent iteration: 150\n",
      "MSE train:test: 0.56 : 0.79\n",
      "\n",
      "CPU times: total: 12min 37s\n",
      "Wall time: 12min 50s\n"
     ]
    }
   ],
   "source": [
    "%%time\n",
    "MF_SGD.calculate_learning_curve(iter_array, matrix_val, learning_rate=0.001)"
   ]
  },
  {
   "cell_type": "code",
   "execution_count": 256,
   "metadata": {},
   "outputs": [
    {
     "data": {
      "image/png": "[encoded data removed]",
      "text/plain": [
       "<Figure size 432x288 with 1 Axes>"
      ]
     },
     "metadata": {},
     "output_type": "display_data"
    }
   ],
   "source": [
    "plot_learning_curve(iter_array, MF_SGD)"
   ]
  },
  {
   "attachments": {},
   "cell_type": "markdown",
   "metadata": {},
   "source": [
    "Судя по методу локтя, с ~100ой итерации спуска с приведёнными параметрами у нас начинается переобучение, так что предиктить будет на 100 шагах.  \n",
    "Также эта модель доказала, что в первой имплементации SGD проблема была не в данных, а именно в коде :( "
   ]
  },
  {
   "attachments": {},
   "cell_type": "markdown",
   "metadata": {},
   "source": [
    "#### 6. Сравнение моделей"
   ]
  },
  {
   "attachments": {},
   "cell_type": "markdown",
   "metadata": {},
   "source": [
    "Я не очен  представляю, как мы можем сравнивать метрики двух реализаций между собой. Несмотря на использование одинакового подхода (**MSE**), у нас получились числа разного порядка. Единственное, что я могу предложить в такой ситуации - оценить персонально несколько предсказаний для нескольких пользователей в валидационном сете."
   ]
  },
  {
   "cell_type": "code",
   "execution_count": 267,
   "metadata": {},
   "outputs": [
    {
     "data": {
      "text/html": [
       "<div>\n",
       "<style scoped>\n",
       "    .dataframe tbody tr th:only-of-type {\n",
       "        vertical-align: middle;\n",
       "    }\n",
       "\n",
       "    .dataframe tbody tr th {\n",
       "        vertical-align: top;\n",
       "    }\n",
       "\n",
       "    .dataframe thead th {\n",
       "        text-align: right;\n",
       "    }\n",
       "</style>\n",
       "<table border=\"1\" class=\"dataframe\">\n",
       "  <thead>\n",
       "    <tr style=\"text-align: right;\">\n",
       "      <th></th>\n",
       "      <th>userId</th>\n",
       "      <th>movieId</th>\n",
       "      <th>movie</th>\n",
       "      <th>rating</th>\n",
       "    </tr>\n",
       "  </thead>\n",
       "  <tbody>\n",
       "    <tr>\n",
       "      <th>67475</th>\n",
       "      <td>437</td>\n",
       "      <td>62</td>\n",
       "      <td>Mr. Holland's Opus (1995)</td>\n",
       "      <td>3.0</td>\n",
       "    </tr>\n",
       "    <tr>\n",
       "      <th>7548</th>\n",
       "      <td>51</td>\n",
       "      <td>2015</td>\n",
       "      <td>Absent-Minded Professor, The (1961)</td>\n",
       "      <td>4.0</td>\n",
       "    </tr>\n",
       "    <tr>\n",
       "      <th>33492</th>\n",
       "      <td>226</td>\n",
       "      <td>8949</td>\n",
       "      <td>Sideways (2004)</td>\n",
       "      <td>4.0</td>\n",
       "    </tr>\n",
       "    <tr>\n",
       "      <th>81697</th>\n",
       "      <td>517</td>\n",
       "      <td>2355</td>\n",
       "      <td>Bug's Life, A (1998)</td>\n",
       "      <td>0.5</td>\n",
       "    </tr>\n",
       "    <tr>\n",
       "      <th>24537</th>\n",
       "      <td>169</td>\n",
       "      <td>5957</td>\n",
       "      <td>Two Weeks Notice (2002)</td>\n",
       "      <td>4.0</td>\n",
       "    </tr>\n",
       "  </tbody>\n",
       "</table>\n",
       "</div>"
      ],
      "text/plain": [
       "       userId  movieId                                movie  rating\n",
       "67475     437       62            Mr. Holland's Opus (1995)     3.0\n",
       "7548       51     2015  Absent-Minded Professor, The (1961)     4.0\n",
       "33492     226     8949                      Sideways (2004)     4.0\n",
       "81697     517     2355                 Bug's Life, A (1998)     0.5\n",
       "24537     169     5957              Two Weeks Notice (2002)     4.0"
      ]
     },
     "execution_count": 267,
     "metadata": {},
     "output_type": "execute_result"
    }
   ],
   "source": [
    "# help(pd.core.frame.DataFrame.sample)\n",
    "personal_prediction_set = valid.sample(5, random_state = 42)\n",
    "personal_prediction_set"
   ]
  },
  {
   "cell_type": "code",
   "execution_count": 299,
   "metadata": {},
   "outputs": [
    {
     "data": {
      "text/html": [
       "<div>\n",
       "<style scoped>\n",
       "    .dataframe tbody tr th:only-of-type {\n",
       "        vertical-align: middle;\n",
       "    }\n",
       "\n",
       "    .dataframe tbody tr th {\n",
       "        vertical-align: top;\n",
       "    }\n",
       "\n",
       "    .dataframe thead th {\n",
       "        text-align: right;\n",
       "    }\n",
       "</style>\n",
       "<table border=\"1\" class=\"dataframe\">\n",
       "  <thead>\n",
       "    <tr style=\"text-align: right;\">\n",
       "      <th></th>\n",
       "      <th>userId</th>\n",
       "      <th>movieId</th>\n",
       "      <th>movie</th>\n",
       "      <th>rating</th>\n",
       "      <th>svd1</th>\n",
       "      <th>svd2</th>\n",
       "    </tr>\n",
       "  </thead>\n",
       "  <tbody>\n",
       "    <tr>\n",
       "      <th>67475</th>\n",
       "      <td>437</td>\n",
       "      <td>62</td>\n",
       "      <td>Mr. Holland's Opus (1995)</td>\n",
       "      <td>3.0</td>\n",
       "      <td>2.94</td>\n",
       "      <td>4.34</td>\n",
       "    </tr>\n",
       "    <tr>\n",
       "      <th>7548</th>\n",
       "      <td>51</td>\n",
       "      <td>2015</td>\n",
       "      <td>Absent-Minded Professor, The (1961)</td>\n",
       "      <td>4.0</td>\n",
       "      <td>2.96</td>\n",
       "      <td>4.19</td>\n",
       "    </tr>\n",
       "    <tr>\n",
       "      <th>33492</th>\n",
       "      <td>226</td>\n",
       "      <td>8949</td>\n",
       "      <td>Sideways (2004)</td>\n",
       "      <td>4.0</td>\n",
       "      <td>4.07</td>\n",
       "      <td>3.86</td>\n",
       "    </tr>\n",
       "    <tr>\n",
       "      <th>81697</th>\n",
       "      <td>517</td>\n",
       "      <td>2355</td>\n",
       "      <td>Bug's Life, A (1998)</td>\n",
       "      <td>0.5</td>\n",
       "      <td>0.65</td>\n",
       "      <td>3.48</td>\n",
       "    </tr>\n",
       "    <tr>\n",
       "      <th>24537</th>\n",
       "      <td>169</td>\n",
       "      <td>5957</td>\n",
       "      <td>Two Weeks Notice (2002)</td>\n",
       "      <td>4.0</td>\n",
       "      <td>3.83</td>\n",
       "      <td>3.09</td>\n",
       "    </tr>\n",
       "  </tbody>\n",
       "</table>\n",
       "</div>"
      ],
      "text/plain": [
       "       userId  movieId                                movie  rating  svd1  \\\n",
       "67475     437       62            Mr. Holland's Opus (1995)     3.0  2.94   \n",
       "7548       51     2015  Absent-Minded Professor, The (1961)     4.0  2.96   \n",
       "33492     226     8949                      Sideways (2004)     4.0  4.07   \n",
       "81697     517     2355                 Bug's Life, A (1998)     0.5  0.65   \n",
       "24537     169     5957              Two Weeks Notice (2002)     4.0  3.83   \n",
       "\n",
       "       svd2  \n",
       "67475  4.34  \n",
       "7548   4.19  \n",
       "33492  3.86  \n",
       "81697  3.48  \n",
       "24537  3.09  "
      ]
     },
     "execution_count": 299,
     "metadata": {},
     "output_type": "execute_result"
    }
   ],
   "source": [
    "# svd1\n",
    "svd1 = []\n",
    "\n",
    "for row in personal_prediction_set.itertuples():\n",
    "\n",
    "    u = row[1]\n",
    "    m = row[3]\n",
    "    e = 0\n",
    "\n",
    "    for j in range(5):\n",
    "        e += history[-1][1][u][j] * history[-1][2][m][j]\n",
    "\n",
    "    svd1.append(round(e+history[-1][3][u]+history[-1][4][m], 2))\n",
    "\n",
    "personal_prediction_set['svd1'] = svd1\n",
    "\n",
    "# svd2\n",
    "personal_prediction_set['svd2'] = [round(MF_SGD.predict(row[1], row[2]),2) for row in personal_prediction_set.itertuples()]\n",
    "\n",
    "personal_prediction_set.head()"
   ]
  },
  {
   "attachments": {},
   "cell_type": "markdown",
   "metadata": {},
   "source": [
    "Как мы видим, оценки первой модели отличаются от реальных не более чем на 0.2, что является очень хорошим показателем, как по мне. Единственным фильмом с сильной разницей в предсказанной и реальной оценке является ***Absent-Minded Professor, The (1961)***. Узнаем почему:"
   ]
  },
  {
   "cell_type": "code",
   "execution_count": 287,
   "metadata": {},
   "outputs": [
    {
     "data": {
      "text/html": [
       "<div>\n",
       "<style scoped>\n",
       "    .dataframe tbody tr th:only-of-type {\n",
       "        vertical-align: middle;\n",
       "    }\n",
       "\n",
       "    .dataframe tbody tr th {\n",
       "        vertical-align: top;\n",
       "    }\n",
       "\n",
       "    .dataframe thead th {\n",
       "        text-align: right;\n",
       "    }\n",
       "</style>\n",
       "<table border=\"1\" class=\"dataframe\">\n",
       "  <thead>\n",
       "    <tr style=\"text-align: right;\">\n",
       "      <th></th>\n",
       "      <th>userId</th>\n",
       "      <th>movieId</th>\n",
       "      <th>movie</th>\n",
       "      <th>rating</th>\n",
       "    </tr>\n",
       "  </thead>\n",
       "  <tbody>\n",
       "    <tr>\n",
       "      <th>42457</th>\n",
       "      <td>288</td>\n",
       "      <td>2015</td>\n",
       "      <td>Absent-Minded Professor, The (1961)</td>\n",
       "      <td>3.0</td>\n",
       "    </tr>\n",
       "    <tr>\n",
       "      <th>48729</th>\n",
       "      <td>315</td>\n",
       "      <td>2015</td>\n",
       "      <td>Absent-Minded Professor, The (1961)</td>\n",
       "      <td>3.0</td>\n",
       "    </tr>\n",
       "    <tr>\n",
       "      <th>62973</th>\n",
       "      <td>414</td>\n",
       "      <td>2015</td>\n",
       "      <td>Absent-Minded Professor, The (1961)</td>\n",
       "      <td>3.0</td>\n",
       "    </tr>\n",
       "  </tbody>\n",
       "</table>\n",
       "</div>"
      ],
      "text/plain": [
       "       userId  movieId                                movie  rating\n",
       "42457     288     2015  Absent-Minded Professor, The (1961)     3.0\n",
       "48729     315     2015  Absent-Minded Professor, The (1961)     3.0\n",
       "62973     414     2015  Absent-Minded Professor, The (1961)     3.0"
      ]
     },
     "execution_count": 287,
     "metadata": {},
     "output_type": "execute_result"
    }
   ],
   "source": [
    "train[train['movie'] == 'Absent-Minded Professor, The (1961)']"
   ]
  },
  {
   "attachments": {},
   "cell_type": "markdown",
   "metadata": {},
   "source": [
    "Фильм попал в тренировочную выборку всего три раза с абсолютно одинаковым оценками, так что латентные фичи и смещение по этому фильма почти не имели шансов далеко отойти от оценки. Возможно, быстрое переобучение валидационной выборки связано как раз с такими малочисленными фильмами, и для улучшения модели следует искоренить их."
   ]
  },
  {
   "attachments": {},
   "cell_type": "markdown",
   "metadata": {},
   "source": [
    "Для второй модели предсказания на удивление вышли хуже, чем на первой. Ощущение будто они более усреднённые, хотя даже в относительном порядке они проигрывают. Для сравнения можно было бы посчитать nDCG, но тут три фильма с топ рейтингом так что оставим это для тестовой выборки."
   ]
  },
  {
   "cell_type": "code",
   "execution_count": 301,
   "metadata": {},
   "outputs": [
    {
     "data": {
      "text/html": [
       "<div>\n",
       "<style scoped>\n",
       "    .dataframe tbody tr th:only-of-type {\n",
       "        vertical-align: middle;\n",
       "    }\n",
       "\n",
       "    .dataframe tbody tr th {\n",
       "        vertical-align: top;\n",
       "    }\n",
       "\n",
       "    .dataframe thead th {\n",
       "        text-align: right;\n",
       "    }\n",
       "</style>\n",
       "<table border=\"1\" class=\"dataframe\">\n",
       "  <thead>\n",
       "    <tr style=\"text-align: right;\">\n",
       "      <th></th>\n",
       "      <th>userId</th>\n",
       "      <th>movieId</th>\n",
       "      <th>movie</th>\n",
       "      <th>rating</th>\n",
       "      <th>svd1</th>\n",
       "      <th>svd2</th>\n",
       "    </tr>\n",
       "  </thead>\n",
       "  <tbody>\n",
       "    <tr>\n",
       "      <th>67475</th>\n",
       "      <td>437</td>\n",
       "      <td>62</td>\n",
       "      <td>Mr. Holland's Opus (1995)</td>\n",
       "      <td>3.0</td>\n",
       "      <td>2.94</td>\n",
       "      <td>4.34</td>\n",
       "    </tr>\n",
       "    <tr>\n",
       "      <th>7548</th>\n",
       "      <td>51</td>\n",
       "      <td>2015</td>\n",
       "      <td>Absent-Minded Professor, The (1961)</td>\n",
       "      <td>4.0</td>\n",
       "      <td>2.96</td>\n",
       "      <td>4.19</td>\n",
       "    </tr>\n",
       "    <tr>\n",
       "      <th>33492</th>\n",
       "      <td>226</td>\n",
       "      <td>8949</td>\n",
       "      <td>Sideways (2004)</td>\n",
       "      <td>4.0</td>\n",
       "      <td>4.07</td>\n",
       "      <td>3.86</td>\n",
       "    </tr>\n",
       "    <tr>\n",
       "      <th>81697</th>\n",
       "      <td>517</td>\n",
       "      <td>2355</td>\n",
       "      <td>Bug's Life, A (1998)</td>\n",
       "      <td>0.5</td>\n",
       "      <td>0.65</td>\n",
       "      <td>3.48</td>\n",
       "    </tr>\n",
       "    <tr>\n",
       "      <th>24537</th>\n",
       "      <td>169</td>\n",
       "      <td>5957</td>\n",
       "      <td>Two Weeks Notice (2002)</td>\n",
       "      <td>4.0</td>\n",
       "      <td>3.83</td>\n",
       "      <td>3.09</td>\n",
       "    </tr>\n",
       "  </tbody>\n",
       "</table>\n",
       "</div>"
      ],
      "text/plain": [
       "       userId  movieId                                movie  rating  svd1  \\\n",
       "67475     437       62            Mr. Holland's Opus (1995)     3.0  2.94   \n",
       "7548       51     2015  Absent-Minded Professor, The (1961)     4.0  2.96   \n",
       "33492     226     8949                      Sideways (2004)     4.0  4.07   \n",
       "81697     517     2355                 Bug's Life, A (1998)     0.5  0.65   \n",
       "24537     169     5957              Two Weeks Notice (2002)     4.0  3.83   \n",
       "\n",
       "       svd2  \n",
       "67475  4.34  \n",
       "7548   4.19  \n",
       "33492  3.86  \n",
       "81697  3.48  \n",
       "24537  3.09  "
      ]
     },
     "execution_count": 301,
     "metadata": {},
     "output_type": "execute_result"
    }
   ],
   "source": [
    "personal_prediction_set.sort_values('svd2', ascending=False)\n",
    "# топ-2 фильма по итогу занимают 2, 3 и 5 места"
   ]
  },
  {
   "attachments": {},
   "cell_type": "markdown",
   "metadata": {},
   "source": [
    "В теории мы бы могли посчитать все оценки на валидационом сете по первой модели и подставить их в ф-цию `get_mce()` (она просто универсальнее), чтобы получить оценки по одной шкале:"
   ]
  },
  {
   "cell_type": "code",
   "execution_count": 340,
   "metadata": {},
   "outputs": [
    {
     "name": "stdout",
     "output_type": "stream",
     "text": [
      "MSE of 1st model on the validation set is 0.63\n"
     ]
    }
   ],
   "source": [
    "# svd1\n",
    "svd1 = []\n",
    "valid_check = deepcopy(valid)\n",
    "step = np.argmin(val_scores)\n",
    "\n",
    "for row in valid_check.itertuples():\n",
    "\n",
    "    u = row[1]\n",
    "    m = row[3]\n",
    "    e = 0\n",
    "\n",
    "    # костыль\n",
    "    if m in list(history[step][2]):\n",
    "\n",
    "        for j in range(5):\n",
    "            e += history[step][1][u][j] * history[step][2][m][j]\n",
    "\n",
    "        svd1.append(round(e+history[step][3][u]+history[step][4][m], 2))\n",
    "\n",
    "    else:\n",
    "        svd1.append(0)\n",
    "\n",
    "valid_check['svd1'] = svd1\n",
    "valid_check.head()\n",
    "print(f\"MSE of 1st model on the validation set is {round(get_mse(np.array(valid_check['svd1']), np.array(valid_check['rating'])),2)}\")"
   ]
  },
  {
   "attachments": {},
   "cell_type": "markdown",
   "metadata": {},
   "source": [
    "За приблизительно одинаковое время пробегов с помощью первой модели нам удалось добиться лучших показателей (`0.63`), чем с помощью классовой модели (`~0.78`). Не знаю с чем это связано, но я даже и рад: мне она больше понравилась, и на ней можно попробовать не только стохастический спуск.\n",
    "\n",
    "Для экономии времени я буду работать дальше с ней - тьюнинг гиперпараметров вещь очень небыстрая, особенно с локалки."
   ]
  },
  {
   "cell_type": "code",
   "execution_count": 344,
   "metadata": {},
   "outputs": [
    {
     "name": "stdout",
     "output_type": "stream",
     "text": [
      "RMSE of 1st model on the validation set is 0.79\n"
     ]
    }
   ],
   "source": [
    "print(f\"RMSE of 1st model on the validation set is {round(get_mse(np.array(valid_check['svd1']), np.array(valid_check['rating']))**0.5, 2)}\")"
   ]
  },
  {
   "attachments": {},
   "cell_type": "markdown",
   "metadata": {},
   "source": [
    "#### 7. Тьюним гиперпараметры"
   ]
  },
  {
   "attachments": {},
   "cell_type": "markdown",
   "metadata": {},
   "source": [
    "* Про [разницу](https://towardsdatascience.com/a-visual-explanation-of-gradient-descent-methods-momentum-adagrad-rmsprop-adam-f898b102325c) в реализациях градиентного спусках"
   ]
  },
  {
   "attachments": {},
   "cell_type": "markdown",
   "metadata": {},
   "source": [
    "Мне захотелось обернуть изначальную модель в класс, чтобы проще играться с ней:"
   ]
  },
  {
   "cell_type": "code",
   "execution_count": 463,
   "metadata": {},
   "outputs": [],
   "source": [
    "from tqdm import tqdm\n",
    "\n",
    "class customSVD():\n",
    "    def __init__(self,\n",
    "                 train_set,\n",
    "                 Pi = dict(),\n",
    "                 Bi = dict(),\n",
    "                 Ba = dict(),\n",
    "                 Qa = dict(),\n",
    "                 scores = [],\n",
    "                 history = []):\n",
    "\n",
    "        '''\n",
    "        Train a matrix factorization model to predict empty \n",
    "        entries in a matrix. \n",
    "        \n",
    "        Params\n",
    "        ======\n",
    "        train_set : (pandas.core.frame.DataFrame)\n",
    "            A user-movie-rating dataframe used for train. \n",
    "            Columns should be names [['userId'. 'movie', 'rating']]\n",
    "        \n",
    "        Pi, Bi, Ba, Qa : (dict)\n",
    "            Parameters of SGD steps (user/movie bias and coeffs) \n",
    "\n",
    "        scores: (list)\n",
    "            List of (mse_on_train_set, mse_on_valid_set) tuples each step\n",
    "\n",
    "        history: (list)\n",
    "            Saves each epoch of SGD to list object with corresponding elements:\n",
    "                - i (int): current epoch\n",
    "                - Bi (dict): user's bias\n",
    "                - Ba (dict): movie's bias\n",
    "                - Pi (dict): user-latent_feature coeffs\n",
    "                - Qa (dict): movie-latent_feature coeffs\n",
    "        '''\n",
    "\n",
    "        self.train_set = train_set\n",
    "        self.Pi = Pi\n",
    "        self.Bi = Bi\n",
    "        self.Ba = Ba\n",
    "        self.Qa = Qa\n",
    "        self.scores = []\n",
    "        self.history = []\n",
    "\n",
    "\n",
    "    def collect_dicts(self, dataset):\n",
    "\n",
    "        users_list = dataset[['userId', 'movie']].values.tolist() \n",
    "\n",
    "        ratings_list = {}\n",
    "        for u in dataset['userId'].unique():\n",
    "            ratings_list.update({u: {}})\n",
    "            for i, row in dataset[dataset['userId'] == u][['movie', 'rating']].iterrows():\n",
    "                ratings_list[u].update({row[0]: row[1]})\n",
    "\n",
    "        return users_list, ratings_list\n",
    "\n",
    "\n",
    "    def initialize(self, latent_features = 5):\n",
    "        \n",
    "        users = self.train_set['userId']\n",
    "        movies = self.train_set['movie']\n",
    "\n",
    "        self.latent_features = latent_features\n",
    "\n",
    "        self.Pi = {} # вектор из numLf параметров для каждого пользователя (часто случайно)\n",
    "        self.Bi = {} # среднее искажение пользователя (часто среднее)\n",
    "        for u in users:\n",
    "            self.Bi[u] = 0  # avg_user_rating[u] # как альтернатива\n",
    "            self.Pi[u] = []\n",
    "            for i in range(latent_features):\n",
    "                self.Pi[u].append(random.random())\n",
    "\n",
    "        # повторяем для фильмов\n",
    "        self.Ba = {}\n",
    "        self.Qa = {}        \n",
    "        for m in movies:\n",
    "            self.Ba[m] = 0 # начало\n",
    "            self.Qa[m] = []\n",
    "            for i in range(latent_features):\n",
    "                self.Qa[m].append(random.random())\n",
    "\n",
    "        self.users_list, self.ratings_list = self.collect_dicts(self.train_set)\n",
    "        self.scores = []\n",
    "        self.history = []\n",
    "\n",
    "    def score(self, dataset):\n",
    "        \n",
    "        dididi = self.collect_dicts(dataset)\n",
    "        rating_list = dididi[0]\n",
    "        critics = dididi[1]\n",
    "\n",
    "        summ = 0\n",
    "        for (u,m) in rating_list:\n",
    "            rate = self.Bi[u] + self.Ba[m]\n",
    "            for i in range(self.latent_features):\n",
    "                rate += self.Pi[u][i]*self.Qa[m][i]\n",
    "            summ += (critics[u][m] - rate)*(critics[u][m] - rate)\n",
    "        return summ\n",
    "\n",
    "    def fit(self, valid_set, learning_rate, epochs = 10, steps = 10):\n",
    "\n",
    "        for iii in tqdm(range(epochs)): \n",
    "\n",
    "            for jjj in range(steps): \n",
    "\n",
    "                score_train = self.score(self.train_set)\n",
    "                score_val = self.score(valid_set)\n",
    "                self.scores.append([score_train, score_val])\n",
    "\n",
    "                for (u, m) in self.users_list:\n",
    "                #one step of gradient\n",
    "                    rate = self.Bi[u] + self.Ba[m]\n",
    "                    for i in range(self.latent_features):\n",
    "                        rate += self.Pi[u][i]*self.Qa[m][i]\n",
    "\n",
    "                    error = rate - self.ratings_list[u][m]\n",
    "                    deltaBi = gamma*error     \n",
    "                    deltaBa = gamma*error     \n",
    "                    self.Bi[u] -= deltaBi\n",
    "                    self.Ba[m] -= deltaBi\n",
    "\n",
    "                    for i in range(self.latent_features):\n",
    "                        deltaPi = (gamma*error*self.Qa[m][i])\n",
    "                        deltaQa = (gamma*error*self.Pi[u][i])\n",
    "                        self.Pi[u][i] -= deltaPi\n",
    "                        self.Qa[m][i] -= deltaQa\n",
    "\n",
    "            self.history.append([len(self.history)+1, deepcopy(self.Pi), deepcopy(self.Qa), self.Bi.copy(), self.Ba.copy()])\n",
    "\n",
    "        return (self.history[-iii*jjj:], self.scores)\n"
   ]
  },
  {
   "attachments": {},
   "cell_type": "markdown",
   "metadata": {},
   "source": [
    "Приступаем к тьюнингу:\n",
    "\n",
    "(*На компе помощнее я бы затьюнил и количество шагов, но в силу особенностей своего железа остановился только на тьюнинг_рейте и количестве латентных фич*)"
   ]
  },
  {
   "cell_type": "code",
   "execution_count": 392,
   "metadata": {},
   "outputs": [],
   "source": [
    "model = customSVD(train)\n",
    "model.initialize()"
   ]
  },
  {
   "cell_type": "code",
   "execution_count": 394,
   "metadata": {},
   "outputs": [
    {
     "name": "stderr",
     "output_type": "stream",
     "text": [
      "100%|██████████| 10/10 [06:07<00:00, 36.75s/it]\n",
      "100%|██████████| 10/10 [04:51<00:00, 29.16s/it]\n",
      "100%|██████████| 10/10 [04:47<00:00, 28.75s/it]\n",
      "100%|██████████| 10/10 [04:56<00:00, 29.68s/it]\n",
      "100%|██████████| 10/10 [07:51<00:00, 47.15s/it]\n",
      "100%|██████████| 10/10 [11:21<00:00, 68.11s/it]\n",
      "100%|██████████| 10/10 [11:07<00:00, 66.78s/it]\n",
      "100%|██████████| 10/10 [10:52<00:00, 65.28s/it]\n",
      "100%|██████████| 10/10 [12:27<00:00, 74.75s/it]\n",
      "100%|██████████| 10/10 [12:58<00:00, 77.83s/it]\n",
      "100%|██████████| 10/10 [11:23<00:00, 68.35s/it]\n",
      "100%|██████████| 10/10 [11:44<00:00, 70.45s/it]\n"
     ]
    }
   ],
   "source": [
    "%%time\n",
    "tunes = []\n",
    "\n",
    "for L in (5, 15, 25):\n",
    "    for gamma in (0.001, 0.005, 0.01, 0.025):\n",
    "        model.initialize(latent_features = L)\n",
    "        tune = model.fit(valid, learning_rate = gamma, epochs = 10, steps = 10)\n",
    "        tunes.append([L, gamma, tune])"
   ]
  },
  {
   "attachments": {},
   "cell_type": "markdown",
   "metadata": {},
   "source": [
    "Время воспроизведения кода на моём компе: `110m 54.7s`...\n",
    "\n",
    "> А после этого я понял, что неправильно прописал класс, и метод `.fit()` возвращает `None`. Из-за этого у меня не получится сравнить модели по количеству латентных фич - внутри объекта хранится история по эпохам, но она обновляется при прогоне `.initialize()`. "
   ]
  },
  {
   "attachments": {},
   "cell_type": "markdown",
   "metadata": {},
   "source": [
    "Отрисуем графики:"
   ]
  },
  {
   "cell_type": "code",
   "execution_count": 411,
   "metadata": {},
   "outputs": [],
   "source": [
    "g1 = model.scores[:50]    # train, valid\n",
    "g2 = model.scores[50:100]\n",
    "g3 = model.scores[100:150]\n",
    "g4 = model.scores[150:200]\n",
    "\n",
    "def draw_graph(scores, title):\n",
    "\n",
    "    plt.figure(figsize=(8, 6), dpi=80);\n",
    "                \n",
    "    val_scores = [val[1] for val in scores][1:]\n",
    "    train_scores = [val[0] for val in scores][1:]\n",
    "    epoch = [val for val in range(len(scores))][1:]\n",
    "\n",
    "    plt.figure(figsize=(8, 6), dpi=80)\n",
    "\n",
    "    # create figure and axis objects with subplots()\n",
    "    fig,ax = plt.subplots()\n",
    "    # make a plot\n",
    "    ax.plot(epoch,\n",
    "            train_scores,\n",
    "            color=\"blue\", \n",
    "            marker=\"o\")\n",
    "    # set x-axis label\n",
    "    ax.set_title(f'{scores=}'.split('=')[0])\n",
    "    ax.set_xlabel(\"epoch\", fontsize = 14)\n",
    "    # set y-axis label\n",
    "    ax.set_ylabel(\"MSE on Train_set\",\n",
    "                color=\"blue\",\n",
    "                fontsize=14)\n",
    "\n",
    "    # twin object for two different y-axis on the sample plot\n",
    "    ax2=ax.twinx()\n",
    "    # make a plot with different y-axis using second axis object\n",
    "    ax2.plot(epoch, val_scores, color=\"red\",marker=\"o\")\n",
    "    ax2.set_ylabel(\"MSE on Validation_set\", color=\"red\",fontsize=14)\n",
    "    plt.show();\n"
   ]
  },
  {
   "cell_type": "code",
   "execution_count": 413,
   "metadata": {},
   "outputs": [
    {
     "name": "stdout",
     "output_type": "stream",
     "text": [
      "Общая картина\n"
     ]
    },
    {
     "data": {
      "text/plain": [
       "<Figure size 640x480 with 0 Axes>"
      ]
     },
     "metadata": {},
     "output_type": "display_data"
    },
    {
     "data": {
      "text/plain": [
       "<Figure size 640x480 with 0 Axes>"
      ]
     },
     "metadata": {},
     "output_type": "display_data"
    },
    {
     "data": {
      "image/png": "[encoded data removed]",
      "text/plain": [
       "<Figure size 432x288 with 2 Axes>"
      ]
     },
     "metadata": {},
     "output_type": "display_data"
    },
    {
     "name": "stdout",
     "output_type": "stream",
     "text": [
      "gamma = 0.001\n"
     ]
    },
    {
     "data": {
      "text/plain": [
       "<Figure size 640x480 with 0 Axes>"
      ]
     },
     "metadata": {},
     "output_type": "display_data"
    },
    {
     "data": {
      "text/plain": [
       "<Figure size 640x480 with 0 Axes>"
      ]
     },
     "metadata": {},
     "output_type": "display_data"
    },
    {
     "data": {
      "image/png": "[encoded data removed]",
      "text/plain": [
       "<Figure size 432x288 with 2 Axes>"
      ]
     },
     "metadata": {},
     "output_type": "display_data"
    },
    {
     "name": "stdout",
     "output_type": "stream",
     "text": [
      "gamma = 0.025\n"
     ]
    },
    {
     "data": {
      "text/plain": [
       "<Figure size 640x480 with 0 Axes>"
      ]
     },
     "metadata": {},
     "output_type": "display_data"
    },
    {
     "data": {
      "text/plain": [
       "<Figure size 640x480 with 0 Axes>"
      ]
     },
     "metadata": {},
     "output_type": "display_data"
    },
    {
     "data": {
      "image/png": "[encoded data removed]",
      "text/plain": [
       "<Figure size 432x288 with 2 Axes>"
      ]
     },
     "metadata": {},
     "output_type": "display_data"
    },
    {
     "name": "stdout",
     "output_type": "stream",
     "text": [
      "gamma = 0.05\n"
     ]
    },
    {
     "data": {
      "text/plain": [
       "<Figure size 640x480 with 0 Axes>"
      ]
     },
     "metadata": {},
     "output_type": "display_data"
    },
    {
     "data": {
      "text/plain": [
       "<Figure size 640x480 with 0 Axes>"
      ]
     },
     "metadata": {},
     "output_type": "display_data"
    },
    {
     "data": {
      "image/png": "[encoded data removed]",
      "text/plain": [
       "<Figure size 432x288 with 2 Axes>"
      ]
     },
     "metadata": {},
     "output_type": "display_data"
    },
    {
     "name": "stdout",
     "output_type": "stream",
     "text": [
      "gamma = 0.01\n"
     ]
    },
    {
     "data": {
      "text/plain": [
       "<Figure size 640x480 with 0 Axes>"
      ]
     },
     "metadata": {},
     "output_type": "display_data"
    },
    {
     "data": {
      "text/plain": [
       "<Figure size 640x480 with 0 Axes>"
      ]
     },
     "metadata": {},
     "output_type": "display_data"
    },
    {
     "data": {
      "image/png": "[encoded data removed]",
      "text/plain": [
       "<Figure size 432x288 with 2 Axes>"
      ]
     },
     "metadata": {},
     "output_type": "display_data"
    }
   ],
   "source": [
    "print(\"Общая картина\")\n",
    "draw_graph(model.scores)\n",
    "print(\"gamma = 0.001\")\n",
    "draw_graph(g1)\n",
    "print(\"gamma = 0.025\")\n",
    "draw_graph(g2)\n",
    "print(\"gamma = 0.05\")\n",
    "draw_graph(g3)\n",
    "print(\"gamma = 0.01\")\n",
    "draw_graph(g4)"
   ]
  },
  {
   "attachments": {},
   "cell_type": "markdown",
   "metadata": {},
   "source": [
    "> Отсюда выяснилась вторая проблема моего класса: из-за того что история теперь уже НЕ обновлялась, получилось, что каждая новая итерация дообучала предыдущую, и получился скорее ансамбль, чем несколько моделей для сравнения. По итогу мой класс получился вообще не адаптирован для тьюнинга. Я ещё раз продумал, как сохранять эти объекты, и прописал соответствующие аутпуты, но запустить ещё один тьюнинг, к сожалению, не успеваю."
   ]
  },
  {
   "attachments": {},
   "cell_type": "markdown",
   "metadata": {},
   "source": [
    "#### 8. Лучшая модель\n",
    "\n",
    "Как по метрикам, так и по инспектированию по наблюдениям, лучшей моделью покамест является первый запуск ручного подсчёта SVD (см. выводы п.6). Пока выберем её (ночь 9-10 декабря), но после перезапуска тьюнинга ответ может поменяться."
   ]
  },
  {
   "attachments": {},
   "cell_type": "markdown",
   "metadata": {},
   "source": [
    "#### 9. Рекомендации по похожести"
   ]
  },
  {
   "cell_type": "code",
   "execution_count": 470,
   "metadata": {},
   "outputs": [
    {
     "data": {
      "text/plain": [
       "array([[  0.        ,   0.        ,   0.        , ...,   0.        ,\n",
       "          0.        , 268.71369861],\n",
       "       [  0.        ,   0.        ,   0.        , ...,   0.        ,\n",
       "          0.        ,   0.        ],\n",
       "       [  0.        ,   0.        ,   0.        , ...,   0.        ,\n",
       "          0.        ,   0.        ],\n",
       "       ...,\n",
       "       [  0.        ,   0.        ,   0.        , ...,   0.        ,\n",
       "          0.        ,   0.        ],\n",
       "       [  0.        ,   0.        ,   0.        , ...,   0.        ,\n",
       "          0.        ,   0.        ],\n",
       "       [  0.        ,   0.        ,   0.        , ...,   0.        ,\n",
       "          0.        ,   0.        ]])"
      ]
     },
     "execution_count": 470,
     "metadata": {},
     "output_type": "execute_result"
    }
   ],
   "source": [
    "from sklearn.metrics.pairwise import cosine_similarity\n",
    "matrix # наша user-item матрица\n",
    "\n",
    "item_similarity = cosine_similarity(matrix)\n",
    "rating_pred = np.dot(matrix.T, item_similarity)\n",
    "item_ratings = np.multiply(rating_pred, matrix_val.T)\n",
    "item_ratings\n",
    "\n",
    "# np.multiply(rating_pred, val_item.T)"
   ]
  },
  {
   "attachments": {},
   "cell_type": "markdown",
   "metadata": {},
   "source": [
    "Функция, рекомендующие лучше по симиларити фильмы пользователю:"
   ]
  },
  {
   "cell_type": "code",
   "execution_count": 587,
   "metadata": {},
   "outputs": [
    {
     "data": {
      "text/plain": [
       "[3578, 80906, 4014, 2424, 2253]"
      ]
     },
     "execution_count": 587,
     "metadata": {},
     "output_type": "execute_result"
    }
   ],
   "source": [
    "def getRecommendations(userId, n = 5):\n",
    "    user_matrix = item_ratings[userId-1,:]\n",
    "    user_s_matrix_top_n = np.flip(np.argsort(user_matrix))\n",
    "    re_decoder = {v: k for k, v in movie_recode.items()}\n",
    "    \n",
    "    user_s_top_n = [re_decoder[val] for val in user_s_matrix_top_n]\n",
    "    user_s_top_n_val = [val for val in user_s_top_n if val in valid[valid['userId']==userId]['movieId']]\n",
    "\n",
    "    return user_s_top_n[:5]\n",
    "\n",
    "getRecommendations(1)"
   ]
  },
  {
   "attachments": {},
   "cell_type": "markdown",
   "metadata": {},
   "source": [
    "#### 10. Оценка с помощью nDCG"
   ]
  },
  {
   "attachments": {},
   "cell_type": "markdown",
   "metadata": {},
   "source": [
    "Считаем, что пользователю понравился фильм с оценкой не ниже 4.0 - то есть превращаем задачу в бинарную классификацию:"
   ]
  },
  {
   "cell_type": "code",
   "execution_count": 576,
   "metadata": {},
   "outputs": [],
   "source": [
    "def dcg(relevances, k=10):\n",
    "    relevances = np.asarray(relevances)[:k]\n",
    "    n_rel = len(relevances)\n",
    "    gain = 2**relevances-1\n",
    "    discounts = np.log2(np.arange(n_rel)+2)\n",
    "    return np.sum(gain / discounts)\n",
    "\n",
    "def ndcg(relevances, k=10):\n",
    "    best_dcg = dcg(sorted(relevances, reverse=True), k)\n",
    "    if best_dcg == 0:\n",
    "        return 0\n",
    "\n",
    "    return dcg(relevances, k) / best_dcg"
   ]
  }
 ],
 "metadata": {
  "kernelspec": {
   "display_name": "Python 3.10.4 64-bit",
   "language": "python",
   "name": "python3"
  },
  "language_info": {
   "codemirror_mode": {
    "name": "ipython",
    "version": 3
   },
   "file_extension": ".py",
   "mimetype": "text/x-python",
   "name": "python",
   "nbconvert_exporter": "python",
   "pygments_lexer": "ipython3",
   "version": "3.10.4"
  },
  "orig_nbformat": 4,
  "vscode": {
   "interpreter": {
    "hash": "db967a82a5395c9886e36287b4fc3d4cdf41cf28b68e7cdaae12bdbf290d326d"
   }
  }
 },
 "nbformat": 4,
 "nbformat_minor": 2
}
