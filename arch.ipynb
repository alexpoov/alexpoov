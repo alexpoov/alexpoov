{
 "cells": [
  {
   "cell_type": "code",
   "execution_count": 1,
   "id": "43ba5eaf",
   "metadata": {},
   "outputs": [
    {
     "name": "stdout",
     "output_type": "stream",
     "text": [
      "Authtoken saved to configuration file: C:\\Users\\popov/.ngrok2/ngrok.yml\n"
     ]
    }
   ],
   "source": [
    "!ngrok authtoken 275GgQH9zsYIQWgwmydTTnNlacK_2JaExvsGKghzhCq8wnPLQ"
   ]
  },
  {
   "cell_type": "code",
   "execution_count": null,
   "id": "0d38125a",
   "metadata": {
    "scrolled": true
   },
   "outputs": [],
   "source": [
    "# pip install flask-ngrok\n",
    "# pip install flask-restful"
   ]
  },
  {
   "cell_type": "code",
   "execution_count": 1,
   "id": "8b1ec8c0",
   "metadata": {},
   "outputs": [],
   "source": [
    "import requests\n",
    "import json\n",
    "\n",
    "r = requests.get('http://apis.is/currency/m5')\n",
    "r = json.loads(r.text)\n",
    "usd = r['results'][0]['value']\n",
    "eur = r['results'][2]['value']"
   ]
  },
  {
   "cell_type": "code",
   "execution_count": 5,
   "id": "c2ce4162",
   "metadata": {
    "scrolled": true
   },
   "outputs": [
    {
     "name": "stdout",
     "output_type": "stream",
     "text": [
      " * Serving Flask app \"__main__\" (lazy loading)\n",
      " * Environment: production\n",
      "   WARNING: This is a development server. Do not use it in a production deployment.\n",
      "   Use a production WSGI server instead.\n",
      " * Debug mode: off\n"
     ]
    },
    {
     "name": "stderr",
     "output_type": "stream",
     "text": [
      " * Running on http://127.0.0.1:5000/ (Press CTRL+C to quit)\n",
      "127.0.0.1 - - [30/Mar/2022 17:56:40] \"\u001b[37mGET / HTTP/1.1\u001b[0m\" 200 -\n",
      "127.0.0.1 - - [30/Mar/2022 17:56:41] \"\u001b[37mGET /prices HTTP/1.1\u001b[0m\" 200 -\n",
      "127.0.0.1 - - [30/Mar/2022 17:56:42] \"\u001b[37mGET /prices/exchange HTTP/1.1\u001b[0m\" 200 -\n",
      "Exception in thread Thread-29:\n",
      "Traceback (most recent call last):\n",
      "  File \"C:\\Users\\popov\\anaconda3\\lib\\site-packages\\urllib3\\connection.py\", line 169, in _new_conn\n",
      "    conn = connection.create_connection(\n",
      "  File \"C:\\Users\\popov\\anaconda3\\lib\\site-packages\\urllib3\\util\\connection.py\", line 96, in create_connection\n",
      "    raise err\n",
      "  File \"C:\\Users\\popov\\anaconda3\\lib\\site-packages\\urllib3\\util\\connection.py\", line 86, in create_connection\n",
      "    sock.connect(sa)\n",
      "ConnectionRefusedError: [WinError 10061] Подключение не установлено, т.к. конечный компьютер отверг запрос на подключение\n",
      "\n",
      "During handling of the above exception, another exception occurred:\n",
      "\n",
      "Traceback (most recent call last):\n",
      "  File \"C:\\Users\\popov\\anaconda3\\lib\\site-packages\\urllib3\\connectionpool.py\", line 699, in urlopen\n",
      "    httplib_response = self._make_request(\n",
      "  File \"C:\\Users\\popov\\anaconda3\\lib\\site-packages\\urllib3\\connectionpool.py\", line 394, in _make_request\n",
      "    conn.request(method, url, **httplib_request_kw)\n",
      "  File \"C:\\Users\\popov\\anaconda3\\lib\\site-packages\\urllib3\\connection.py\", line 234, in request\n",
      "    super(HTTPConnection, self).request(method, url, body=body, headers=headers)\n",
      "  File \"C:\\Users\\popov\\anaconda3\\lib\\http\\client.py\", line 1255, in request\n",
      "    self._send_request(method, url, body, headers, encode_chunked)\n",
      "  File \"C:\\Users\\popov\\anaconda3\\lib\\http\\client.py\", line 1301, in _send_request\n",
      "    self.endheaders(body, encode_chunked=encode_chunked)\n",
      "  File \"C:\\Users\\popov\\anaconda3\\lib\\http\\client.py\", line 1250, in endheaders\n",
      "    self._send_output(message_body, encode_chunked=encode_chunked)\n",
      "  File \"C:\\Users\\popov\\anaconda3\\lib\\http\\client.py\", line 1010, in _send_output\n",
      "    self.send(msg)\n",
      "  File \"C:\\Users\\popov\\anaconda3\\lib\\http\\client.py\", line 950, in send\n",
      "    self.connect()\n",
      "  File \"C:\\Users\\popov\\anaconda3\\lib\\site-packages\\urllib3\\connection.py\", line 200, in connect\n",
      "    conn = self._new_conn()\n",
      "  File \"C:\\Users\\popov\\anaconda3\\lib\\site-packages\\urllib3\\connection.py\", line 181, in _new_conn\n",
      "    raise NewConnectionError(\n",
      "urllib3.exceptions.NewConnectionError: <urllib3.connection.HTTPConnection object at 0x0000023870CF2AC0>: Failed to establish a new connection: [WinError 10061] Подключение не установлено, т.к. конечный компьютер отверг запрос на подключение\n",
      "\n",
      "During handling of the above exception, another exception occurred:\n",
      "\n",
      "Traceback (most recent call last):\n",
      "  File \"C:\\Users\\popov\\anaconda3\\lib\\site-packages\\requests\\adapters.py\", line 439, in send\n",
      "    resp = conn.urlopen(\n",
      "  File \"C:\\Users\\popov\\anaconda3\\lib\\site-packages\\urllib3\\connectionpool.py\", line 755, in urlopen\n",
      "    retries = retries.increment(\n",
      "  File \"C:\\Users\\popov\\anaconda3\\lib\\site-packages\\urllib3\\util\\retry.py\", line 574, in increment\n",
      "    raise MaxRetryError(_pool, url, error or ResponseError(cause))\n",
      "urllib3.exceptions.MaxRetryError: HTTPConnectionPool(host='localhost', port=4040): Max retries exceeded with url: /api/tunnels (Caused by NewConnectionError('<urllib3.connection.HTTPConnection object at 0x0000023870CF2AC0>: Failed to establish a new connection: [WinError 10061] Подключение не установлено, т.к. конечный компьютер отверг запрос на подключение'))\n",
      "\n",
      "During handling of the above exception, another exception occurred:\n",
      "\n",
      "Traceback (most recent call last):\n",
      "  File \"C:\\Users\\popov\\anaconda3\\lib\\threading.py\", line 932, in _bootstrap_inner\n",
      "    self.run()\n",
      "  File \"C:\\Users\\popov\\anaconda3\\lib\\threading.py\", line 1254, in run\n",
      "    self.function(*self.args, **self.kwargs)\n",
      "  File \"C:\\Users\\popov\\anaconda3\\lib\\site-packages\\flask_ngrok.py\", line 70, in start_ngrok\n",
      "    ngrok_address = _run_ngrok()\n",
      "  File \"C:\\Users\\popov\\anaconda3\\lib\\site-packages\\flask_ngrok.py\", line 35, in _run_ngrok\n",
      "    tunnel_url = requests.get(localhost_url).text  # Get the tunnel information\n",
      "  File \"C:\\Users\\popov\\anaconda3\\lib\\site-packages\\requests\\api.py\", line 76, in get\n",
      "    return request('get', url, params=params, **kwargs)\n",
      "  File \"C:\\Users\\popov\\anaconda3\\lib\\site-packages\\requests\\api.py\", line 61, in request\n",
      "    return session.request(method=method, url=url, **kwargs)\n",
      "  File \"C:\\Users\\popov\\anaconda3\\lib\\site-packages\\requests\\sessions.py\", line 542, in request\n",
      "    resp = self.send(prep, **send_kwargs)\n",
      "  File \"C:\\Users\\popov\\anaconda3\\lib\\site-packages\\requests\\sessions.py\", line 655, in send\n",
      "    r = adapter.send(request, **kwargs)\n",
      "  File \"C:\\Users\\popov\\anaconda3\\lib\\site-packages\\requests\\adapters.py\", line 516, in send\n",
      "    raise ConnectionError(e, request=request)\n",
      "requests.exceptions.ConnectionError: HTTPConnectionPool(host='localhost', port=4040): Max retries exceeded with url: /api/tunnels (Caused by NewConnectionError('<urllib3.connection.HTTPConnection object at 0x0000023870CF2AC0>: Failed to establish a new connection: [WinError 10061] Подключение не установлено, т.к. конечный компьютер отверг запрос на подключение'))\n",
      "[2022-03-30 17:56:45,570] ERROR in app: Exception on /prices/exchange/500 [GET]\n",
      "Traceback (most recent call last):\n",
      "  File \"C:\\Users\\popov\\anaconda3\\lib\\site-packages\\flask\\app.py\", line 2447, in wsgi_app\n",
      "    response = self.full_dispatch_request()\n",
      "  File \"C:\\Users\\popov\\anaconda3\\lib\\site-packages\\flask\\app.py\", line 1952, in full_dispatch_request\n",
      "    rv = self.handle_user_exception(e)\n",
      "  File \"C:\\Users\\popov\\anaconda3\\lib\\site-packages\\flask\\app.py\", line 1821, in handle_user_exception\n",
      "    reraise(exc_type, exc_value, tb)\n",
      "  File \"C:\\Users\\popov\\anaconda3\\lib\\site-packages\\flask\\_compat.py\", line 39, in reraise\n",
      "    raise value\n",
      "  File \"C:\\Users\\popov\\anaconda3\\lib\\site-packages\\flask\\app.py\", line 1950, in full_dispatch_request\n",
      "    rv = self.dispatch_request()\n",
      "  File \"C:\\Users\\popov\\anaconda3\\lib\\site-packages\\flask\\app.py\", line 1936, in dispatch_request\n",
      "    return self.view_functions[rule.endpoint](**req.view_args)\n",
      "TypeError: changing() got an unexpected keyword argument 'val'\n",
      "127.0.0.1 - - [30/Mar/2022 17:56:45] \"\u001b[35m\u001b[1mGET /prices/exchange/500 HTTP/1.1\u001b[0m\" 500 -\n"
     ]
    }
   ],
   "source": [
    "import requests\n",
    "import json\n",
    "\n",
    "r = requests.get('http://apis.is/currency/m5')\n",
    "r = json.loads(r.text)\n",
    "usd = r['results'][0]['value']\n",
    "eur = r['results'][2]['value']\n",
    "\n",
    "from flask import Flask\n",
    "from flask_ngrok import run_with_ngrok\n",
    "app = Flask(__name__)\n",
    "run_with_ngrok(app)   \n",
    "  \n",
    "@app.route(\"/\")\n",
    "def home():\n",
    "    return '<h1>Iceland <3 </h1><p> Добро пожаловать на страничку API-хелпера для путешествий по Исландии! <br> Воспользуйтесь навигацией снизу, чтобы перейти на интересующую вас вкладку. </p><hr><p><a href=\"http://127.0.0.1:5000/places\">/places</a> - для получения информации о достопримечательностях и красивых местах Исландии/ <br><a href=\"http://127.0.0.1:5000/prices\">/prices</a> - для конвертации валют и получения информации о ценах в Исландии. <br><a href=\"http://127.0.0.1:5000/weather\">/weather</a> - метеосводка, чтобы подобрать пальтишко по погоде.</p><hr><h4>Хорошего дня!</h4>'\n",
    "\n",
    "@app.route(\"/places\")\n",
    "def page_places():\n",
    "    return '<h1> <a href=\"http://127.0.0.1:5000/\">Iceland</a> / Места </h1> <p> Здесь вы можете получить информацию о достопримечательностях и природных красотах страны.</p> <hr> <p> Данная страница находится в разработке. Приносим извенения за неудобства.</p>'\n",
    "\n",
    "@app.route(\"/prices\")\n",
    "def page_prices():\n",
    "    return '<h1> <a href=\"http://127.0.0.1:5000/\">Iceland</a> / Цены </h1> <p> Здесь вы можете узнать валютный курс к исландской кроне и актуальные цены на бензин.</p> <hr> <p> <a href=\"http://127.0.0.1:5000/prices/exchange\">/exchange</a> - курсы валют. <br> <a href=\"http://127.0.0.1:5000/oil\">/oil</a> - цены на топливо. </p>'\n",
    "\n",
    "@app.route(\"/weather\")\n",
    "def page_weather():\n",
    "    return '<h1> <a href=\"http://127.0.0.1:5000/\">Iceland</a> / Погода </h1> <p> Здесь вы можете узнать прогноз погоды в Исландии</p> <hr> <p> <a href=\"http://127.0.0.1:5000/weater/tomorrow\">/tomorrow</a> - прогноз погоды на завтра. <br> </p>'\n",
    "\n",
    "@app.route(\"/prices/exchange\")\n",
    "def page_exchange():\n",
    "    return f'<h1> <a href=\"http://127.0.0.1:5000/\">Iceland</a> / <a href=\"http://127.0.0.1:5000/prices\">Цены</a> / Валюта </h1> <p> Актуальный курс обмена.</p> <hr> <p> 1 EUR = {eur} ISK <br> 1 USD = {usd} ISK </p> <hr> <p> Также вы можете узнать, сколько крон вы получите за вашу сумму валюты.'\n",
    "\n",
    "# @app.route(\"/prices/exchange/<val>\")\n",
    "# def changing():\n",
    "#     return f'<h1> <a href=\"http://127.0.0.1:5000/\">Iceland</a> / <a href=\"http://127.0.0.1:5000/prices\">Цены</a> / Валюта </h1> <p> Онлайн конвертер.</p> <hr> <p> {val} EUR = {val*eur} ISK.'\n",
    "\n",
    "app.run()"
   ]
  },
  {
   "cell_type": "code",
   "execution_count": null,
   "id": "f5e337fb",
   "metadata": {},
   "outputs": [],
   "source": []
  },
  {
   "cell_type": "code",
   "execution_count": null,
   "id": "93c2b8ee",
   "metadata": {},
   "outputs": [],
   "source": []
  }
 ],
 "metadata": {
  "kernelspec": {
   "display_name": "Python 3",
   "language": "python",
   "name": "python3"
  },
  "toc": {
   "base_numbering": 1,
   "nav_menu": {},
   "number_sections": true,
   "sideBar": true,
   "skip_h1_title": false,
   "title_cell": "Table of Contents",
   "title_sidebar": "Contents",
   "toc_cell": false,
   "toc_position": {},
   "toc_section_display": true,
   "toc_window_display": false
  },
  "varInspector": {
   "cols": {
    "lenName": 16,
    "lenType": 16,
    "lenVar": 40
   },
   "kernels_config": {
    "python": {
     "delete_cmd_postfix": "",
     "delete_cmd_prefix": "del ",
     "library": "var_list.py",
     "varRefreshCmd": "print(var_dic_list())"
    },
    "r": {
     "delete_cmd_postfix": ") ",
     "delete_cmd_prefix": "rm(",
     "library": "var_list.r",
     "varRefreshCmd": "cat(var_dic_list()) "
    }
   },
   "types_to_exclude": [
    "module",
    "function",
    "builtin_function_or_method",
    "instance",
    "_Feature"
   ],
   "window_display": false
  }
 },
 "nbformat": 4,
 "nbformat_minor": 5
}
