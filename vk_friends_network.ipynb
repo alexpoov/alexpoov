{
 "cells": [
  {
   "cell_type": "markdown",
   "metadata": {},
   "source": [
    "## VK Network Analysis"
   ]
  },
  {
   "cell_type": "markdown",
   "metadata": {},
   "source": [
    "### Getting access to VK API"
   ]
  },
  {
   "cell_type": "markdown",
   "metadata": {},
   "source": [
    "In case of `ImportError` with `vk` package: go to _Python\\Lib\\site-packages\\vk\\utils.py_ and replace `collections` to `collectiobs.abc` (py 3.9+, src: [stack overflow](https://ru.stackoverflow.com/questions/1389580/importerror-cannot-import-name-iterable-from-collections))"
   ]
  },
  {
   "cell_type": "code",
   "execution_count": 43,
   "metadata": {},
   "outputs": [],
   "source": [
    "# !pip install vk"
   ]
  },
  {
   "cell_type": "code",
   "execution_count": 44,
   "metadata": {},
   "outputs": [],
   "source": [
    "from matplotlib import pyplot as plt\n",
    "from matplotlib.pyplot import figure\n",
    "import pandas as pd\n",
    "import seaborn as sns\n",
    "import numpy as np\n",
    "import math\n",
    "import time\n",
    "import vk"
   ]
  },
  {
   "cell_type": "markdown",
   "metadata": {},
   "source": [
    "How to: get [VK API token](https://dvmn.org/encyclopedia/qna/63/kak-poluchit-token-polzovatelja-dlja-vkontakte/)  \n",
    "1. creat new standalone [app](https://vk.com/apps?act=manage)\n",
    "2. go back to MyApps menu and press <ins>Manage</ins> button\n",
    "3. copy `id` part of new url (e.g. /editapp?id=<ins>42</ins>)\n",
    "4. paste it here after `client_id` and change `v` to latest [api version](https://vk.com/dev/versions): https://oauth.vk.com/authorize?client_id=42&display=page&scope=friends&response_type=token&v=5.131&state=123456\n",
    "5. copy url after redirecting. it will contain your `access_token` (exp. in 1 day)."
   ]
  },
  {
   "cell_type": "code",
   "execution_count": 45,
   "metadata": {},
   "outputs": [],
   "source": [
    "token = '08e9f4d5b9d4c13d5dd4e8729091fcd27fda350440cf01af2870b634b8eda6c3b307cc1963753a0bd26ac'\n",
    "version = 5.131\n",
    "api = vk.API(access_token=token, v=version) \n",
    "\n",
    "# alternative:\n",
    "# session = vk.AuthSession(app_id='appid', user_login='jake@gmail.com', user_password='Finn')\n",
    "# api = vk.API(session)"
   ]
  },
  {
   "cell_type": "markdown",
   "metadata": {},
   "source": [
    "*The code below is most likely a far from ideal implementation of parsing a list of friends via ***VK API***. If you have any ideas on how it can be optimized - I will be grateful.*"
   ]
  },
  {
   "cell_type": "code",
   "execution_count": 46,
   "metadata": {},
   "outputs": [
    {
     "data": {
      "text/html": [
       "<div>\n",
       "<style scoped>\n",
       "    .dataframe tbody tr th:only-of-type {\n",
       "        vertical-align: middle;\n",
       "    }\n",
       "\n",
       "    .dataframe tbody tr th {\n",
       "        vertical-align: top;\n",
       "    }\n",
       "\n",
       "    .dataframe thead th {\n",
       "        text-align: right;\n",
       "    }\n",
       "</style>\n",
       "<table border=\"1\" class=\"dataframe\">\n",
       "  <thead>\n",
       "    <tr style=\"text-align: right;\">\n",
       "      <th></th>\n",
       "      <th>Unnamed: 0</th>\n",
       "      <th>first_name</th>\n",
       "      <th>last_name</th>\n",
       "      <th>id</th>\n",
       "      <th>sex</th>\n",
       "      <th>bdate</th>\n",
       "      <th>country</th>\n",
       "      <th>home_town</th>\n",
       "      <th>has_mobile</th>\n",
       "      <th>followers_count</th>\n",
       "      <th>...</th>\n",
       "      <th>status</th>\n",
       "      <th>relation</th>\n",
       "      <th>universities</th>\n",
       "      <th>nickname</th>\n",
       "      <th>deactivated</th>\n",
       "      <th>counters</th>\n",
       "      <th>has_photo</th>\n",
       "      <th>occupation</th>\n",
       "      <th>site</th>\n",
       "      <th>wall_default</th>\n",
       "    </tr>\n",
       "  </thead>\n",
       "  <tbody>\n",
       "    <tr>\n",
       "      <th>0</th>\n",
       "      <td>0</td>\n",
       "      <td>Igor</td>\n",
       "      <td>Ryabov</td>\n",
       "      <td>1332226</td>\n",
       "      <td>2</td>\n",
       "      <td>27.8.1986</td>\n",
       "      <td>{'id': 1, 'title': 'Russia'}</td>\n",
       "      <td>Новороссийск</td>\n",
       "      <td>1.0</td>\n",
       "      <td>226.0</td>\n",
       "      <td>...</td>\n",
       "      <td>Jungle is Massive! 🦍</td>\n",
       "      <td>0.0</td>\n",
       "      <td>[{'city': 1, 'country': 1, 'id': 661, 'name': ...</td>\n",
       "      <td>NaN</td>\n",
       "      <td>NaN</td>\n",
       "      <td>{'albums': 14, 'audios': 427, 'followers': 226...</td>\n",
       "      <td>1</td>\n",
       "      <td>{'id': 49673019, 'name': 'Москва FM', 'type': ...</td>\n",
       "      <td>https://www.facebook.com/igor.ryabov.50</td>\n",
       "      <td>all</td>\n",
       "    </tr>\n",
       "    <tr>\n",
       "      <th>1</th>\n",
       "      <td>1</td>\n",
       "      <td>Tanya</td>\n",
       "      <td>Titova</td>\n",
       "      <td>2264271</td>\n",
       "      <td>1</td>\n",
       "      <td>25.9</td>\n",
       "      <td>{'id': 1, 'title': 'Russia'}</td>\n",
       "      <td>NaN</td>\n",
       "      <td>1.0</td>\n",
       "      <td>914.0</td>\n",
       "      <td>...</td>\n",
       "      <td>Портреты • Шаржи • Скетчинг • Мастер-классы • ...</td>\n",
       "      <td>0.0</td>\n",
       "      <td>[{'chair': 2732, 'chair_name': ' Кафедра графи...</td>\n",
       "      <td>NaN</td>\n",
       "      <td>NaN</td>\n",
       "      <td>{'albums': 1, 'audios': 5229, 'followers': 914...</td>\n",
       "      <td>1</td>\n",
       "      <td>{'id': 961, 'name': 'ВШПМ СПбГУПТД (бывш. СЗИП...</td>\n",
       "      <td>NaN</td>\n",
       "      <td>all</td>\n",
       "    </tr>\n",
       "    <tr>\n",
       "      <th>2</th>\n",
       "      <td>2</td>\n",
       "      <td>Nadi</td>\n",
       "      <td>Zvonova</td>\n",
       "      <td>2464009</td>\n",
       "      <td>1</td>\n",
       "      <td>1.6</td>\n",
       "      <td>{'id': 1, 'title': 'Russia'}</td>\n",
       "      <td>Питер</td>\n",
       "      <td>1.0</td>\n",
       "      <td>168.0</td>\n",
       "      <td>...</td>\n",
       "      <td>NaN</td>\n",
       "      <td>0.0</td>\n",
       "      <td>[{'city': 2, 'country': 1, 'education_form': '...</td>\n",
       "      <td>NaN</td>\n",
       "      <td>NaN</td>\n",
       "      <td>{'albums': 8, 'audios': 0, 'followers': 168, '...</td>\n",
       "      <td>1</td>\n",
       "      <td>{'id': 1173072, 'name': 'СПбГЭУ', 'type': 'uni...</td>\n",
       "      <td>https://www.flickr.com/photos/nadi-z4/</td>\n",
       "      <td>all</td>\n",
       "    </tr>\n",
       "    <tr>\n",
       "      <th>3</th>\n",
       "      <td>3</td>\n",
       "      <td>Tanya</td>\n",
       "      <td>Adamenko</td>\n",
       "      <td>2518040</td>\n",
       "      <td>1</td>\n",
       "      <td>NaN</td>\n",
       "      <td>NaN</td>\n",
       "      <td>Санкт-Петербург</td>\n",
       "      <td>1.0</td>\n",
       "      <td>NaN</td>\n",
       "      <td>...</td>\n",
       "      <td>All squares are rhombuses, but not all rhombus...</td>\n",
       "      <td>0.0</td>\n",
       "      <td>[{'chair': 1842936, 'chair_name': ' Кафедра го...</td>\n",
       "      <td>NaN</td>\n",
       "      <td>NaN</td>\n",
       "      <td>{'albums': 3, 'audios': 1065, 'friends': 1437,...</td>\n",
       "      <td>1</td>\n",
       "      <td>{'id': 17, 'name': 'НИУ ВШЭ (СПб)', 'type': 'u...</td>\n",
       "      <td>https://twitter.com/eta_mim</td>\n",
       "      <td>owner</td>\n",
       "    </tr>\n",
       "    <tr>\n",
       "      <th>4</th>\n",
       "      <td>4</td>\n",
       "      <td>Ksenia</td>\n",
       "      <td>Serebrova</td>\n",
       "      <td>3056955</td>\n",
       "      <td>1</td>\n",
       "      <td>5.6.1967</td>\n",
       "      <td>{'id': 1, 'title': 'Russia'}</td>\n",
       "      <td>Санкт-Петербург</td>\n",
       "      <td>1.0</td>\n",
       "      <td>139.0</td>\n",
       "      <td>...</td>\n",
       "      <td>NaN</td>\n",
       "      <td>4.0</td>\n",
       "      <td>[{'city': 2, 'country': 1, 'education_form': '...</td>\n",
       "      <td>NaN</td>\n",
       "      <td>NaN</td>\n",
       "      <td>{'albums': 66, 'audios': 33, 'followers': 139,...</td>\n",
       "      <td>1</td>\n",
       "      <td>{'id': 34, 'name': 'РГПУ им. А. И. Герцена', '...</td>\n",
       "      <td>NaN</td>\n",
       "      <td>all</td>\n",
       "    </tr>\n",
       "  </tbody>\n",
       "</table>\n",
       "<p>5 rows × 31 columns</p>\n",
       "</div>"
      ],
      "text/plain": [
       "   Unnamed: 0 first_name  last_name       id  sex      bdate  \\\n",
       "0           0       Igor     Ryabov  1332226    2  27.8.1986   \n",
       "1           1      Tanya     Titova  2264271    1       25.9   \n",
       "2           2       Nadi    Zvonova  2464009    1        1.6   \n",
       "3           3      Tanya   Adamenko  2518040    1        NaN   \n",
       "4           4     Ksenia  Serebrova  3056955    1   5.6.1967   \n",
       "\n",
       "                        country        home_town  has_mobile  followers_count  \\\n",
       "0  {'id': 1, 'title': 'Russia'}     Новороссийск         1.0            226.0   \n",
       "1  {'id': 1, 'title': 'Russia'}              NaN         1.0            914.0   \n",
       "2  {'id': 1, 'title': 'Russia'}            Питер         1.0            168.0   \n",
       "3                           NaN  Санкт-Петербург         1.0              NaN   \n",
       "4  {'id': 1, 'title': 'Russia'}  Санкт-Петербург         1.0            139.0   \n",
       "\n",
       "   ...                                             status relation  \\\n",
       "0  ...                               Jungle is Massive! 🦍      0.0   \n",
       "1  ...  Портреты • Шаржи • Скетчинг • Мастер-классы • ...      0.0   \n",
       "2  ...                                                NaN      0.0   \n",
       "3  ...  All squares are rhombuses, but not all rhombus...      0.0   \n",
       "4  ...                                                NaN      4.0   \n",
       "\n",
       "                                        universities  nickname  deactivated  \\\n",
       "0  [{'city': 1, 'country': 1, 'id': 661, 'name': ...       NaN          NaN   \n",
       "1  [{'chair': 2732, 'chair_name': ' Кафедра графи...       NaN          NaN   \n",
       "2  [{'city': 2, 'country': 1, 'education_form': '...       NaN          NaN   \n",
       "3  [{'chair': 1842936, 'chair_name': ' Кафедра го...       NaN          NaN   \n",
       "4  [{'city': 2, 'country': 1, 'education_form': '...       NaN          NaN   \n",
       "\n",
       "                                            counters  has_photo  \\\n",
       "0  {'albums': 14, 'audios': 427, 'followers': 226...          1   \n",
       "1  {'albums': 1, 'audios': 5229, 'followers': 914...          1   \n",
       "2  {'albums': 8, 'audios': 0, 'followers': 168, '...          1   \n",
       "3  {'albums': 3, 'audios': 1065, 'friends': 1437,...          1   \n",
       "4  {'albums': 66, 'audios': 33, 'followers': 139,...          1   \n",
       "\n",
       "                                          occupation  \\\n",
       "0  {'id': 49673019, 'name': 'Москва FM', 'type': ...   \n",
       "1  {'id': 961, 'name': 'ВШПМ СПбГУПТД (бывш. СЗИП...   \n",
       "2  {'id': 1173072, 'name': 'СПбГЭУ', 'type': 'uni...   \n",
       "3  {'id': 17, 'name': 'НИУ ВШЭ (СПб)', 'type': 'u...   \n",
       "4  {'id': 34, 'name': 'РГПУ им. А. И. Герцена', '...   \n",
       "\n",
       "                                      site  wall_default  \n",
       "0  https://www.facebook.com/igor.ryabov.50           all  \n",
       "1                                      NaN           all  \n",
       "2   https://www.flickr.com/photos/nadi-z4/           all  \n",
       "3              https://twitter.com/eta_mim         owner  \n",
       "4                                      NaN           all  \n",
       "\n",
       "[5 rows x 31 columns]"
      ]
     },
     "execution_count": 46,
     "metadata": {},
     "output_type": "execute_result"
    }
   ],
   "source": [
    "# WARNING! **1.5h** execution chunk\n",
    "\n",
    "# dict_users_requests = {}\n",
    "# results = []\n",
    "\n",
    "# for friend in friends_ids_list:\n",
    "#   dict_results = {}\n",
    "#   dict_users_requests = {}\n",
    "#   for column in fields_name:\n",
    "#     try:\n",
    "#       dict_results = {column: \n",
    "#                       api.users.get(user_ids = friend,\n",
    "#                       v = version,\n",
    "#                       fields = fields_name)[0][column]\n",
    "#                       }\n",
    "#     except:\n",
    "#       dict_results = {column: np.nan}\n",
    "#     finally:\n",
    "#       print(dict_results)\n",
    "#       dict_users_requests.update(dict_results)\n",
    "#     time.sleep(1)\n",
    "#   results.append(dict_users_requests)\n",
    "\n",
    "# df = pd.DataFrame(results)\n",
    "# df.to_csv('vk_friends.csv', index=False)\n",
    "df = pd.read_csv('vk_friends.csv')\n",
    "df.head()"
   ]
  },
  {
   "cell_type": "markdown",
   "metadata": {},
   "source": [
    "### Exploratory Data Analysis (+Data Cleaning)"
   ]
  },
  {
   "cell_type": "markdown",
   "metadata": {},
   "source": [
    "According to pieplot below, in VK I have more connections with girls rather than with boys:"
   ]
  },
  {
   "cell_type": "code",
   "execution_count": 47,
   "metadata": {},
   "outputs": [
    {
     "data": {
      "image/png": "[encoded data removed]",
      "text/plain": [
       "<Figure size 432x288 with 1 Axes>"
      ]
     },
     "metadata": {},
     "output_type": "display_data"
    }
   ],
   "source": [
    "# Pie chart\n",
    "labels = ['girls', 'guys']\n",
    "sizes = df.groupby(['sex']).size()\n",
    "#colors\n",
    "colors = ['#ff9999','#66b3ff','#99ff99','#ffcc99']\n",
    " \n",
    "fig1, ax1 = plt.subplots()\n",
    "ax1.pie(sizes, colors = colors, labels=labels, autopct='%1.1f%%', startangle=90)\n",
    "#draw circle\n",
    "centre_circle = plt.Circle((0,0),0.70,fc='white')\n",
    "fig = plt.gcf()\n",
    "fig.gca().add_artist(centre_circle)\n",
    "# Equal aspect ratio ensures that pie is drawn as a circle\n",
    "ax1.axis('equal')  \n",
    "plt.tight_layout()\n",
    "plt.show()"
   ]
  },
  {
   "cell_type": "markdown",
   "metadata": {},
   "source": [
    "I wanted to plot the distribution of cities of occupation, but it wont be representative as 60% of my freinds are living in St Petersburg (and no more than 2 firends outside of two capital cities). Same with countries (obviously because city parameter had unique country parent. Moreover, VK prevalent on CIS region only)."
   ]
  },
  {
   "cell_type": "code",
   "execution_count": 48,
   "metadata": {},
   "outputs": [
    {
     "data": {
      "text/plain": [
       "city\n",
       "Saint Petersburg    98\n",
       "Moscow              11\n",
       "Minsk                2\n",
       "Chitungwiza          1\n",
       "Copenhagen           1\n",
       "Delft                1\n",
       "Espoo                1\n",
       "dtype: int64"
      ]
     },
     "execution_count": 48,
     "metadata": {},
     "output_type": "execute_result"
    }
   ],
   "source": [
    "import ast\n",
    "for i, row in df.iterrows():\n",
    "    city_val = row['city']\n",
    "    if type(city_val) is str:\n",
    "        if '{' in city_val:\n",
    "            city_val = ast.literal_eval(city_val)['title']\n",
    "    df.at[i,'city'] = city_val\n",
    "\n",
    "cities = df.groupby(['city']).size().sort_values(ascending = False).head(7)\n",
    "cities"
   ]
  },
  {
   "cell_type": "code",
   "execution_count": 49,
   "metadata": {},
   "outputs": [
    {
     "data": {
      "text/plain": [
       "country\n",
       "Russia            129\n",
       "Belarus             3\n",
       "Germany             2\n",
       "Czech Republic      1\n",
       "Denmark             1\n",
       "Finland             1\n",
       "India               1\n",
       "dtype: int64"
      ]
     },
     "execution_count": 49,
     "metadata": {},
     "output_type": "execute_result"
    }
   ],
   "source": [
    "for i, row in df.iterrows():\n",
    "    country_val = row['country']\n",
    "    if type(country_val) is str:\n",
    "        if '{' in country_val:\n",
    "            country_val = ast.literal_eval(country_val)['title']\n",
    "    df.at[i,'country'] = country_val\n",
    "\n",
    "countries = df.groupby(['country']).size().sort_values(ascending = False).head(7)\n",
    "countries"
   ]
  },
  {
   "cell_type": "markdown",
   "metadata": {},
   "source": [
    "Instead, I desided to plot the distribution of Zodiac signs over my friendlist:"
   ]
  },
  {
   "cell_type": "code",
   "execution_count": 50,
   "metadata": {},
   "outputs": [],
   "source": [
    "import re\n",
    "\n",
    "# extract dates and monthes only via RexExp\n",
    "for i, row in df.iterrows():\n",
    "    bdate_val = row['bdate']\n",
    "    if type(bdate_val) is str:\n",
    "        day = re.search(r'^[^.]+', bdate_val)\n",
    "        day = day.group(0)\n",
    "        month = re.search(r'(?<=..)[^.]+', bdate_val)\n",
    "        month = month.group(0)\n",
    "        df.at[i,'day'] = int(day)\n",
    "        df.at[i,'month'] = int(month)    \n",
    "\n",
    "for i, row in df.iterrows():\n",
    "    day = row['day']\n",
    "    month = row['month']\n",
    "    if month == 12:\n",
    "        df.at[i,'zodiac'] = 'Sagittarius' if (day < 22) else 'Capricorn'\n",
    "    elif month == 1:\n",
    "        df.at[i,'zodiac'] = 'Capricorn' if (day < 20) else 'Aquarius'\n",
    "    elif month == 2:\n",
    "        df.at[i,'zodiac'] = 'Aquarius' if (day < 19) else 'Pisces'\n",
    "    elif month == 3:\n",
    "        df.at[i,'zodiac'] = 'Pisces' if (day < 21) else 'Aries'\n",
    "    elif month == 4:\n",
    "        df.at[i,'zodiac'] = 'Aries' if (day < 20) else 'Taurus'\n",
    "    elif month == 5:\n",
    "        df.at[i,'zodiac'] = 'Taurus' if (day < 21) else 'Gemini'\n",
    "    elif month == 6:\n",
    "        df.at[i,'zodiac'] = 'Gemini' if (day < 21) else 'Cancer'\n",
    "    elif month == 7:\n",
    "        df.at[i,'zodiac'] = 'Cancer' if (day < 23) else 'Leo'\n",
    "    elif month == 8:\n",
    "        df.at[i,'zodiac'] = 'Leo' if (day < 23) else 'Virgo'\n",
    "    elif month == 9:\n",
    "        df.at[i,'zodiac'] = 'Virgo' if (day < 23) else 'Libra'\n",
    "    elif month == 10:\n",
    "        df.at[i,'zodiac'] = 'Libra' if (day < 23) else 'Scorpio'\n",
    "    elif month == 11:\n",
    "        df.at[i,'zodiac'] = 'Scorpio' if (day < 22) else 'Sagittarius' \n"
   ]
  },
  {
   "cell_type": "code",
   "execution_count": 51,
   "metadata": {},
   "outputs": [
    {
     "data": {
      "image/png": "[encoded data removed]",
      "text/plain": [
       "<Figure size 1332x756 with 1 Axes>"
      ]
     },
     "metadata": {
      "needs_background": "light"
     },
     "output_type": "display_data"
    }
   ],
   "source": [
    "nan_value = float(\"NaN\")\n",
    "zodiac_order = [\"Aries\", \"Taurus\", \"Gemini\", \"Cancer\", \"Leo\", \"Virgo\", \"Libra\", \"Scorpio\", \"Sagittarius\", \"Capricorn\", \"Aquarius\", \"Pisces\"]\n",
    "\n",
    "astro_sign = df.zodiac.replace(r'^\\s*$', np.nan, regex=True)\n",
    "astro_sign = astro_sign.dropna()\n",
    "astro_sign = df.groupby(['zodiac']).size().loc[zodiac_order].to_frame()\n",
    "astro_sign.columns = ['counter']\n",
    "astro_sign['zodiac'] = astro_sign.index\n",
    "\n",
    "fig, ax = plt.subplots()\n",
    "\n",
    "fig.set_size_inches(18.5, 10.5)\n",
    "\n",
    "\n",
    "ax.bar(\n",
    "    x=astro_sign.zodiac,\n",
    "    height=astro_sign.counter\n",
    ")\n",
    "\n",
    "# First, let's remove the top, right and left spines (figure borders)\n",
    "# which really aren't necessary for a bar chart.\n",
    "# Also, make the bottom spine gray instead of black.\n",
    "ax.spines['top'].set_visible(False)\n",
    "ax.spines['right'].set_visible(False)\n",
    "ax.spines['left'].set_visible(False)\n",
    "ax.spines['bottom'].set_color('#DDDDDD')\n",
    "\n",
    "# Second, remove the ticks as well.\n",
    "ax.tick_params(bottom=False, left=False)\n",
    "\n",
    "# Third, add a horizontal grid (but keep the vertical grid hidden).\n",
    "# Color the lines a light gray as well.\n",
    "ax.set_axisbelow(True)\n",
    "ax.yaxis.grid(True, color='#EEEEEE')\n",
    "ax.xaxis.grid(False)\n",
    "\n"
   ]
  },
  {
   "cell_type": "markdown",
   "metadata": {},
   "source": [
    "It's turned out that Cancer is one of the most frequent Zodiacs in my firendslist. I always thought I am the only one here."
   ]
  },
  {
   "cell_type": "markdown",
   "metadata": {},
   "source": [
    "Universities distributions show that I tend to create connections with my alma mater's students."
   ]
  },
  {
   "cell_type": "code",
   "execution_count": 52,
   "metadata": {},
   "outputs": [
    {
     "data": {
      "image/png": "[encoded data removed]",
      "text/plain": [
       "<Figure size 1332x756 with 1 Axes>"
      ]
     },
     "metadata": {
      "needs_background": "light"
     },
     "output_type": "display_data"
    }
   ],
   "source": [
    "for i, row in df.iterrows():\n",
    "    uni_val = row['universities']\n",
    "    if type(uni_val) is str:\n",
    "        if '{' in uni_val:\n",
    "            uni_val = ast.literal_eval(uni_val)[0]['name']\n",
    "    df.at[i,'universities'] = uni_val\n",
    "\n",
    "uni = df.groupby(['universities']).size().sort_values(ascending = False).to_frame()\n",
    "uni.columns = ['counter']\n",
    "uni['university'] = uni.index\n",
    "uni = uni.drop(['[]']).head()\n",
    "\n",
    "fig, ax = plt.subplots()\n",
    "\n",
    "fig.set_size_inches(18.5, 10.5)\n",
    "\n",
    "ax.bar(\n",
    "    x=uni.university,\n",
    "    height=uni.counter\n",
    ")\n",
    "\n",
    "ax.spines['top'].set_visible(False)\n",
    "ax.spines['right'].set_visible(False)\n",
    "ax.spines['left'].set_visible(False)\n",
    "ax.spines['bottom'].set_color('#DDDDDD')\n",
    "\n",
    "ax.tick_params(bottom=False, left=False)\n",
    "\n",
    "ax.set_axisbelow(True)\n",
    "ax.yaxis.grid(True, color='#EEEEEE')\n",
    "ax.xaxis.grid(False)"
   ]
  },
  {
   "cell_type": "markdown",
   "metadata": {},
   "source": [
    "### Network Visualization"
   ]
  },
  {
   "cell_type": "markdown",
   "metadata": {},
   "source": [
    "Now let's create my friends network, starting with edgelist:"
   ]
  },
  {
   "cell_type": "code",
   "execution_count": 53,
   "metadata": {},
   "outputs": [],
   "source": [
    "# # WARNING: 3 min execution chunk\n",
    "\n",
    "# # getting pairs of MutualFriends connections \n",
    "# myDict = {\"target\": [], \"commons\": []}\n",
    "# my_id = 436278249 # https://vk.com/settings -> Profile URL\n",
    "# friends_ids_list = df[df['deactivated'].isna()].id #clear deleted accounts\n",
    "\n",
    "# for friend in friends_ids_list:\n",
    "#     wtf = api.friends.getMutual(source_uid = my_id,\n",
    "#                             v = version,\n",
    "#                             target_uids = friend,\n",
    "#                             fields = ['first_name','last_name'])[0]['common_friends']\n",
    "#     for i in wtf:\n",
    "#         myDict[\"target\"].append(friend)\n",
    "#         myDict[\"commons\"].append(i)\n",
    "#     time.sleep(1)\n",
    "\n",
    "# lol = pd.DataFrame.from_dict(myDict)\n",
    "\n",
    "# # dropping reversed duplicates\n",
    "# lol = pd.DataFrame(np.sort(lol.values, axis=1), columns=lol.columns).drop_duplicates()\n",
    "\n",
    "# # adding names \n",
    "# map_dict = dict(zip(df.id,df.first_name+' '+df.last_name))\n",
    "# lol['pers1'] = lol['target'].explode().map(map_dict).groupby(level=0).agg(list)\n",
    "# lol['pers2'] = lol['commons'].explode().map(map_dict).groupby(level=0).agg(list)\n",
    "\n",
    "# for i, row in lol.iterrows():\n",
    "#     lol.at[i,'pers1'] = row['pers1'][0]\n",
    "#     lol.at[i,'pers2'] = row['pers2'][0]\n",
    "\n",
    "# # save results\n",
    "# lol.to_csv('edges.csv', index=False)\n",
    "\n",
    "lol = pd.read_csv('edges.csv')\n",
    "lol = lol.dropna()"
   ]
  },
  {
   "cell_type": "markdown",
   "metadata": {},
   "source": [
    "Visualizations:"
   ]
  },
  {
   "cell_type": "code",
   "execution_count": 54,
   "metadata": {},
   "outputs": [],
   "source": [
    "# !pip install pyvis"
   ]
  },
  {
   "cell_type": "code",
   "execution_count": 55,
   "metadata": {},
   "outputs": [
    {
     "data": {
      "text/html": [
       "\n",
       "        <iframe\n",
       "            width=\"100%\"\n",
       "            height=\"500px\"\n",
       "            src=\"firends.html\"\n",
       "            frameborder=\"0\"\n",
       "            allowfullscreen\n",
       "            \n",
       "        ></iframe>\n",
       "        "
      ],
      "text/plain": [
       "<IPython.lib.display.IFrame at 0x2640023be50>"
      ]
     },
     "execution_count": 55,
     "metadata": {},
     "output_type": "execute_result"
    }
   ],
   "source": [
    "import networkx as nx\n",
    "from pyvis.network import Network\n",
    "\n",
    "# Convert your dataframe to graph\n",
    "nxg = nx.from_pandas_edgelist(lol, 'pers1', 'pers2', edge_attr=None)\n",
    "\n",
    "# nodes size\n",
    "scale=10\n",
    "d = nx.betweenness_centrality(nxg)\n",
    "d.update((x, (y+1.1)**scale*5+10) for x, y in d.items())\n",
    "nx.set_node_attributes(nxg,d,'size')\n",
    "\n",
    "nt = Network(notebook=True, width='100%')\n",
    "nt.barnes_hut()\n",
    "\n",
    "neighbor_map = nt.get_adj_list()\n",
    "\n",
    "# add neighbor data to node hover data\n",
    "for node in nt.nodes:\n",
    "    node['title'] += ' Neighbors:<br>' + '<br>'.join(neighbor_map[node['id']])\n",
    "    node['value'] = len(neighbor_map[node['id']])\n",
    "\n",
    "nt.from_nx(nxg)\n",
    "nt.show('firends.html')"
   ]
  },
  {
   "cell_type": "markdown",
   "metadata": {},
   "source": [
    "### Community Detection"
   ]
  },
  {
   "cell_type": "markdown",
   "metadata": {},
   "source": [
    "Afterall, we can build communities on this graph for more visibility.  \n",
    "\n",
    "There are two main types of community detection techniques, **agglomerative** and **divisive**.\n",
    "\n",
    "**Agglomerative methods** generally start with a network that contains only nodes of the original graph. The edges are added one-by-one to the graph, while stronger edges are prioritized over weaker ones. The strength of an edge, or weight, is calculated differently depending on the specific algorithm implementation.\n",
    "\n",
    "On the other hand, **divisive methods** rely on the process of removing edges from the original graph iteratively. Stronger edges are removed before weaker ones. At every step, the edge-weight calculation is repeated, since the weight of the remaining edges changes after an edge is removed. After a certain number of steps, we get clusters of densely connected nodes, a.k.a. communities."
   ]
  },
  {
   "cell_type": "markdown",
   "metadata": {},
   "source": [
    "#### Girvan-Newman\n",
    "\n",
    "The Girvan-Newman Algorithm has detected 3 different clusters over my network.\n",
    "\n",
    "***[How does it work?](https://networkx.guide/algorithms/community-detection/girvan-newman)*** The Girvan-Newman algorithm can be divided into four main steps:\n",
    "\n",
    "1. For every edge in a graph, calculate the edge betweenness centrality.  \n",
    "2. Remove the edge with the highest betweenness centrality.  \n",
    "3. Calculate the betweenness centrality for every remaining edge.  \n",
    "4. Repeat steps 2–4 until there are no more edges left.  "
   ]
  },
  {
   "cell_type": "code",
   "execution_count": 56,
   "metadata": {},
   "outputs": [
    {
     "data": {
      "text/plain": [
       "3"
      ]
     },
     "execution_count": 56,
     "metadata": {},
     "output_type": "execute_result"
    }
   ],
   "source": [
    "from networkx.algorithms.community.centrality import girvan_newman\n",
    "communities = girvan_newman(nxg)\n",
    "\n",
    "node_groups = []\n",
    "for com in next(communities):\n",
    "    node_groups.append(list(com))\n",
    "\n",
    "len(node_groups)"
   ]
  },
  {
   "cell_type": "code",
   "execution_count": 57,
   "metadata": {},
   "outputs": [
    {
     "data": {
      "text/html": [
       "\n",
       "        <iframe\n",
       "            width=\"100%\"\n",
       "            height=\"500px\"\n",
       "            src=\"firends_girvan_newman.html\"\n",
       "            frameborder=\"0\"\n",
       "            allowfullscreen\n",
       "            \n",
       "        ></iframe>\n",
       "        "
      ],
      "text/plain": [
       "<IPython.lib.display.IFrame at 0x2647f36de80>"
      ]
     },
     "execution_count": 57,
     "metadata": {},
     "output_type": "execute_result"
    }
   ],
   "source": [
    "# nodes size\n",
    "scale=10\n",
    "d = nx.betweenness_centrality(nxg)\n",
    "d.update((x, (y+1.1)**scale*5+10) for x, y in d.items())\n",
    "nx.set_node_attributes(nxg,d,'size')\n",
    "\n",
    "nt = Network(notebook=True, width='100%')\n",
    "nt.repulsion()\n",
    "\n",
    "neighbor_map = nt.get_adj_list()\n",
    "\n",
    "# add neighbor data to node hover data\n",
    "for node in nt.nodes:\n",
    "    node['title'] += ' Neighbors:<br>' + '<br>'.join(neighbor_map[node['id']])\n",
    "    node['value'] = len(neighbor_map[node['id']])\n",
    "    for x in range(len(node_groups)):\n",
    "        try: \n",
    "            idx = node_groups[x].index(nt.nodes['id'])\n",
    "            node['group'] = x\n",
    "        except ValueError: \n",
    "            pass\n",
    "\n",
    "options = {\n",
    "  \"physics\": {\n",
    "    \"repulsion\": {\n",
    "      \"centralGravity\": 1.1,\n",
    "      \"springLength\": 145,\n",
    "      \"springConstant\": 0.025,\n",
    "      \"nodeDistance\": 165\n",
    "    },\n",
    "    \"maxVelocity\": 38,\n",
    "    \"minVelocity\": 1,\n",
    "    \"solver\": \"repulsion\",\n",
    "    \"wind\": {\n",
    "      \"x\": 0.1,\n",
    "      \"y\": 0.2\n",
    "    }\n",
    "  },\n",
    "  \"interaction\": {\n",
    "    \"selectConnectedEdges\": True\n",
    "  },\n",
    "  \"Layout\": {\n",
    "    \"set_edge_minimization\": True\n",
    "  },\n",
    "  \"edges\": {\n",
    "    \"color\": {\n",
    "      \"opacity\": 0.4\n",
    "    }}}\n",
    "\n",
    "nt.options=options\n",
    "\n",
    "nt.from_nx(nxg)\n",
    "nt.show('firends_girvan_newman.html')"
   ]
  },
  {
   "cell_type": "code",
   "execution_count": 58,
   "metadata": {},
   "outputs": [],
   "source": [
    "# # network bebugging\n",
    "# nt = Network(height='100%', width='60%')\n",
    "# nt.from_nx(nxg)\n",
    "# nt.show_buttons(filter_=['edges']) # physics, nodes, Layout\n",
    "# nt.show('firends.html')"
   ]
  },
  {
   "cell_type": "markdown",
   "metadata": {},
   "source": [
    "I've choose this method, because I used betweenness centrality metric during node's size setting. However, I don't like the result: it clustered almost each of my peer to a single homogeneous group. Let's try [different algorithms](https://networkx.org/documentation/stable/reference/algorithms/community.html) (sadly, this is the only one method based on centrality metrics):"
   ]
  },
  {
   "cell_type": "markdown",
   "metadata": {},
   "source": [
    "#### Louvain Community Detection Algorithm"
   ]
  },
  {
   "cell_type": "markdown",
   "metadata": {},
   "source": [
    "Louvain Community Detection Algorithm is a simple method to extract the community structure of a network. This is a heuristic method based on modularity optimization.\n",
    "\n",
    "The algorithm works in 2 steps. On the first step it assigns every node to be in its own community and then for each node it tries to find the maximum positive modularity gain by moving each node to all of its neighbor communities. If no positive gain is achieved the node remains in its original community."
   ]
  },
  {
   "cell_type": "code",
   "execution_count": 59,
   "metadata": {},
   "outputs": [
    {
     "name": "stdout",
     "output_type": "stream",
     "text": [
      "Number of communitites: 6\n"
     ]
    }
   ],
   "source": [
    "from networkx.algorithms.community import louvain_communities\n",
    "communities = louvain_communities(nxg, seed=42)\n",
    "print(\"Number of communitites:\", len(communities))"
   ]
  },
  {
   "cell_type": "code",
   "execution_count": 60,
   "metadata": {},
   "outputs": [
    {
     "data": {
      "text/html": [
       "\n",
       "        <iframe\n",
       "            width=\"100%\"\n",
       "            height=\"500px\"\n",
       "            src=\"firends_louvain_communities.html\"\n",
       "            frameborder=\"0\"\n",
       "            allowfullscreen\n",
       "            \n",
       "        ></iframe>\n",
       "        "
      ],
      "text/plain": [
       "<IPython.lib.display.IFrame at 0x2647f40c850>"
      ]
     },
     "execution_count": 60,
     "metadata": {},
     "output_type": "execute_result"
    }
   ],
   "source": [
    "# loading data\n",
    "nxg = nx.from_pandas_edgelist(lol, 'pers1', 'pers2', edge_attr=None)\n",
    "\n",
    "# nodes size\n",
    "scale=10\n",
    "d = nx.betweenness_centrality(nxg)\n",
    "d.update((x, (y+1.1)**scale*5+10) for x, y in d.items())\n",
    "nx.set_node_attributes(nxg,d,'size')\n",
    "\n",
    "nt = Network(notebook=True, width='100%')\n",
    "nt.repulsion()\n",
    "\n",
    "neighbor_map = nt.get_adj_list()\n",
    "\n",
    "# add neighbor data to node hover data\n",
    "for node in nxg.nodes:\n",
    "    # nxg.nodes[node]['title'] += ' Neighbors:<br>' + '<br>'.join(neighbor_map[node])\n",
    "    # nxg.nodes[node]['value'] = len(neighbor_map[node])\n",
    "    for x in range(len(communities)):\n",
    "        try: \n",
    "            idx = list(communities[x]).index(node)\n",
    "            nxg.nodes[node]['group'] = x\n",
    "        except ValueError: \n",
    "            pass\n",
    "\n",
    "options = {\n",
    "  \"physics\": {\n",
    "    \"repulsion\": {\n",
    "      \"centralGravity\": 1.1,\n",
    "      \"springLength\": 145,\n",
    "      \"springConstant\": 0.025,\n",
    "      \"nodeDistance\": 165\n",
    "    },\n",
    "    \"maxVelocity\": 38,\n",
    "    \"minVelocity\": 1,\n",
    "    \"solver\": \"repulsion\",\n",
    "    \"wind\": {\n",
    "      \"x\": 0.1,\n",
    "      \"y\": 0.2\n",
    "    }\n",
    "  },\n",
    "  \"interaction\": {\n",
    "    \"selectConnectedEdges\": True\n",
    "  },\n",
    "  \"Layout\": {\n",
    "    \"set_edge_minimization\": True\n",
    "  },\n",
    "  \"edges\": {\n",
    "    \"color\": {\n",
    "      \"opacity\": 0.4\n",
    "    }}}\n",
    "\n",
    "nt.options=options\n",
    "nt.from_nx(nxg)\n",
    "nt.show('firends_louvain_communities.html')"
   ]
  },
  {
   "cell_type": "markdown",
   "metadata": {},
   "source": [
    "Here we got an advanced community detection results, where I can derive subgroups between all universities fellows depending on our mutual friends. Let's try another one:"
   ]
  },
  {
   "cell_type": "markdown",
   "metadata": {},
   "source": [
    "#### K-clique communities"
   ]
  },
  {
   "cell_type": "markdown",
   "metadata": {},
   "source": [
    "A k-clique community is the union of all cliques of size k that can be reached through adjacent (sharing k-1 nodes) k-cliques."
   ]
  },
  {
   "cell_type": "code",
   "execution_count": 61,
   "metadata": {},
   "outputs": [
    {
     "name": "stdout",
     "output_type": "stream",
     "text": [
      "Number of communitites: 5\n"
     ]
    }
   ],
   "source": [
    "from networkx.algorithms.community import k_clique_communities\n",
    "communities = list(k_clique_communities(nxg, 3)) # according to previous graphs, size of the smallest cluster is 3\n",
    "print(\"Number of communitites:\", len(communities))"
   ]
  },
  {
   "cell_type": "code",
   "execution_count": 62,
   "metadata": {},
   "outputs": [
    {
     "data": {
      "text/html": [
       "\n",
       "        <iframe\n",
       "            width=\"100%\"\n",
       "            height=\"500px\"\n",
       "            src=\"firends_k_clique.html\"\n",
       "            frameborder=\"0\"\n",
       "            allowfullscreen\n",
       "            \n",
       "        ></iframe>\n",
       "        "
      ],
      "text/plain": [
       "<IPython.lib.display.IFrame at 0x26400308ac0>"
      ]
     },
     "execution_count": 62,
     "metadata": {},
     "output_type": "execute_result"
    }
   ],
   "source": [
    "# loading data\n",
    "nxg = nx.from_pandas_edgelist(lol, 'pers1', 'pers2', edge_attr=None)\n",
    "\n",
    "# nodes size\n",
    "scale=10\n",
    "d = nx.betweenness_centrality(nxg)\n",
    "d.update((x, (y+1.1)**scale*5+10) for x, y in d.items())\n",
    "nx.set_node_attributes(nxg,d,'size')\n",
    "\n",
    "nt = Network(notebook=True, width='100%')\n",
    "nt.repulsion()\n",
    "\n",
    "neighbor_map = nt.get_adj_list()\n",
    "\n",
    "# add neighbor data to node hover data\n",
    "for node in nxg.nodes:\n",
    "    # nxg.nodes[node]['title'] += ' Neighbors:<br>' + '<br>'.join(neighbor_map[node])\n",
    "    # nxg.nodes[node]['value'] = len(neighbor_map[node])\n",
    "    for x in range(len(communities)):\n",
    "        try: \n",
    "            idx = list(communities[x]).index(node)\n",
    "            nxg.nodes[node]['group'] = x\n",
    "        except ValueError: \n",
    "            pass\n",
    "\n",
    "options = {\n",
    "  \"physics\": {\n",
    "    \"repulsion\": {\n",
    "      \"centralGravity\": 1.1,\n",
    "      \"springLength\": 145,\n",
    "      \"springConstant\": 0.025,\n",
    "      \"nodeDistance\": 165\n",
    "    },\n",
    "    \"maxVelocity\": 38,\n",
    "    \"minVelocity\": 1,\n",
    "    \"solver\": \"repulsion\",\n",
    "    \"wind\": {\n",
    "      \"x\": 0.1,\n",
    "      \"y\": 0.2\n",
    "    }\n",
    "  },\n",
    "  \"interaction\": {\n",
    "    \"selectConnectedEdges\": True\n",
    "  },\n",
    "  \"Layout\": {\n",
    "    \"set_edge_minimization\": True\n",
    "  },\n",
    "  \"edges\": {\n",
    "    \"color\": {\n",
    "      \"opacity\": 0.4\n",
    "    }}}\n",
    "\n",
    "nt.options=options\n",
    "nt.from_nx(nxg)\n",
    "nt.show('firends_k_clique.html')"
   ]
  },
  {
   "cell_type": "markdown",
   "metadata": {},
   "source": [
    "This method showed the worst results. He formed mini-clusters, people in which were not connected in any way (I know this for sure). It seems that this method is not suitable for analyzing friends from social networks: most of them are within one or two handshakes from each other, and therefore it also does not distinguish between homogeneous clusters, while finding connections where there are none."
   ]
  },
  {
   "cell_type": "markdown",
   "metadata": {},
   "source": [
    "As the result, ***Louvain Community Detection Algorithm*** performed better than others on my network."
   ]
  },
  {
   "cell_type": "code",
   "execution_count": 63,
   "metadata": {},
   "outputs": [
    {
     "name": "stdout",
     "output_type": "stream",
     "text": [
      "Don't know how to reset  #, please run `%reset?` for details\n",
      "Don't know how to reset  to, please run `%reset?` for details\n",
      "Don't know how to reset  clear, please run `%reset?` for details\n",
      "Don't know how to reset  variables, please run `%reset?` for details\n"
     ]
    }
   ],
   "source": [
    "%reset -f # to clear variables"
   ]
  }
 ],
 "metadata": {
  "interpreter": {
   "hash": "db967a82a5395c9886e36287b4fc3d4cdf41cf28b68e7cdaae12bdbf290d326d"
  },
  "kernelspec": {
   "display_name": "Python 3 (ipykernel)",
   "language": "python",
   "name": "python3"
  },
  "language_info": {
   "codemirror_mode": {
    "name": "ipython",
    "version": 3
   },
   "file_extension": ".py",
   "mimetype": "text/x-python",
   "name": "python",
   "nbconvert_exporter": "python",
   "pygments_lexer": "ipython3",
   "version": "3.9.12"
  },
  "toc": {
   "base_numbering": 1,
   "nav_menu": {},
   "number_sections": true,
   "sideBar": true,
   "skip_h1_title": false,
   "title_cell": "Table of Contents",
   "title_sidebar": "Contents",
   "toc_cell": false,
   "toc_position": {},
   "toc_section_display": true,
   "toc_window_display": false
  },
  "varInspector": {
   "cols": {
    "lenName": 16,
    "lenType": 16,
    "lenVar": 40
   },
   "kernels_config": {
    "python": {
     "delete_cmd_postfix": "",
     "delete_cmd_prefix": "del ",
     "library": "var_list.py",
     "varRefreshCmd": "print(var_dic_list())"
    },
    "r": {
     "delete_cmd_postfix": ") ",
     "delete_cmd_prefix": "rm(",
     "library": "var_list.r",
     "varRefreshCmd": "cat(var_dic_list()) "
    }
   },
   "types_to_exclude": [
    "module",
    "function",
    "builtin_function_or_method",
    "instance",
    "_Feature"
   ],
   "window_display": false
  }
 },
 "nbformat": 4,
 "nbformat_minor": 2
}
